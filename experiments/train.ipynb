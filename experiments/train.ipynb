{
 "metadata": {
  "language_info": {
   "codemirror_mode": {
    "name": "ipython",
    "version": 3
   },
   "file_extension": ".py",
   "mimetype": "text/x-python",
   "name": "python",
   "nbconvert_exporter": "python",
   "pygments_lexer": "ipython3",
   "version": "3.8.5-final"
  },
  "orig_nbformat": 2,
  "kernelspec": {
   "name": "python385jvsc74a57bd01ef995206f79e18d60cc6ad60dd9c93412cbc01b9c6c4fb6eaea4506cf9f9e1c",
   "display_name": "Python 3.8.5 64-bit ('venv')"
  }
 },
 "nbformat": 4,
 "nbformat_minor": 2,
 "cells": [
  {
   "cell_type": "code",
   "execution_count": 18,
   "metadata": {},
   "outputs": [],
   "source": [
    "import pandas as pd\n",
    "import numpy as np"
   ]
  },
  {
   "cell_type": "code",
   "execution_count": 117,
   "metadata": {},
   "outputs": [],
   "source": [
    "promo_sum = pd.read_csv(\"../data/promo_sum_history.csv\", index_col=0)\n",
    "sales_sum = pd.read_csv(\"../data/sales_sum_history.csv\", index_col=0)"
   ]
  },
  {
   "cell_type": "code",
   "execution_count": 4,
   "metadata": {},
   "outputs": [
    {
     "output_type": "execute_result",
     "data": {
      "text/plain": [
       "    skutertiaryid  chaindiscountvalue  start_year  start_week       revenue  \\\n",
       "52           7182            0.206007        2019          46  6.976407e+07   \n",
       "43           7182            0.206215        2019          42  7.852176e+07   \n",
       "39           7182            0.205024        2019          38  6.393776e+07   \n",
       "27           7182            0.146242        2019          26  3.846121e+07   \n",
       "14           7182            0.198616        2019          17  1.681596e+08   \n",
       "..            ...                 ...         ...         ...           ...   \n",
       "4            7205            0.221040        2019           8  5.452037e+06   \n",
       "11           7205            0.154356        2019          16  7.018317e+06   \n",
       "5            7234            0.216858        2019           8  2.599516e+07   \n",
       "1            7234            0.239229        2019           4  3.136620e+07   \n",
       "13           7234            0.142418        2019          16  3.291463e+07   \n",
       "\n",
       "    soldpieces  sold_added  \n",
       "52     2301296    0.600504  \n",
       "43     2587576    0.675206  \n",
       "39     2119216    0.552991  \n",
       "27     1787199    0.466354  \n",
       "14     5753487    1.501324  \n",
       "..         ...         ...  \n",
       "4      3142354    1.187179  \n",
       "11     4684197    1.769686  \n",
       "5      3142354    0.235008  \n",
       "1      2543043    0.190187  \n",
       "13     4684197    0.350318  \n",
       "\n",
       "[64 rows x 7 columns]"
      ],
      "text/html": "<div>\n<style scoped>\n    .dataframe tbody tr th:only-of-type {\n        vertical-align: middle;\n    }\n\n    .dataframe tbody tr th {\n        vertical-align: top;\n    }\n\n    .dataframe thead th {\n        text-align: right;\n    }\n</style>\n<table border=\"1\" class=\"dataframe\">\n  <thead>\n    <tr style=\"text-align: right;\">\n      <th></th>\n      <th>skutertiaryid</th>\n      <th>chaindiscountvalue</th>\n      <th>start_year</th>\n      <th>start_week</th>\n      <th>revenue</th>\n      <th>soldpieces</th>\n      <th>sold_added</th>\n    </tr>\n  </thead>\n  <tbody>\n    <tr>\n      <th>52</th>\n      <td>7182</td>\n      <td>0.206007</td>\n      <td>2019</td>\n      <td>46</td>\n      <td>6.976407e+07</td>\n      <td>2301296</td>\n      <td>0.600504</td>\n    </tr>\n    <tr>\n      <th>43</th>\n      <td>7182</td>\n      <td>0.206215</td>\n      <td>2019</td>\n      <td>42</td>\n      <td>7.852176e+07</td>\n      <td>2587576</td>\n      <td>0.675206</td>\n    </tr>\n    <tr>\n      <th>39</th>\n      <td>7182</td>\n      <td>0.205024</td>\n      <td>2019</td>\n      <td>38</td>\n      <td>6.393776e+07</td>\n      <td>2119216</td>\n      <td>0.552991</td>\n    </tr>\n    <tr>\n      <th>27</th>\n      <td>7182</td>\n      <td>0.146242</td>\n      <td>2019</td>\n      <td>26</td>\n      <td>3.846121e+07</td>\n      <td>1787199</td>\n      <td>0.466354</td>\n    </tr>\n    <tr>\n      <th>14</th>\n      <td>7182</td>\n      <td>0.198616</td>\n      <td>2019</td>\n      <td>17</td>\n      <td>1.681596e+08</td>\n      <td>5753487</td>\n      <td>1.501324</td>\n    </tr>\n    <tr>\n      <th>...</th>\n      <td>...</td>\n      <td>...</td>\n      <td>...</td>\n      <td>...</td>\n      <td>...</td>\n      <td>...</td>\n      <td>...</td>\n    </tr>\n    <tr>\n      <th>4</th>\n      <td>7205</td>\n      <td>0.221040</td>\n      <td>2019</td>\n      <td>8</td>\n      <td>5.452037e+06</td>\n      <td>3142354</td>\n      <td>1.187179</td>\n    </tr>\n    <tr>\n      <th>11</th>\n      <td>7205</td>\n      <td>0.154356</td>\n      <td>2019</td>\n      <td>16</td>\n      <td>7.018317e+06</td>\n      <td>4684197</td>\n      <td>1.769686</td>\n    </tr>\n    <tr>\n      <th>5</th>\n      <td>7234</td>\n      <td>0.216858</td>\n      <td>2019</td>\n      <td>8</td>\n      <td>2.599516e+07</td>\n      <td>3142354</td>\n      <td>0.235008</td>\n    </tr>\n    <tr>\n      <th>1</th>\n      <td>7234</td>\n      <td>0.239229</td>\n      <td>2019</td>\n      <td>4</td>\n      <td>3.136620e+07</td>\n      <td>2543043</td>\n      <td>0.190187</td>\n    </tr>\n    <tr>\n      <th>13</th>\n      <td>7234</td>\n      <td>0.142418</td>\n      <td>2019</td>\n      <td>16</td>\n      <td>3.291463e+07</td>\n      <td>4684197</td>\n      <td>0.350318</td>\n    </tr>\n  </tbody>\n</table>\n<p>64 rows × 7 columns</p>\n</div>"
     },
     "metadata": {},
     "execution_count": 4
    }
   ],
   "source": [
    "promo_sum"
   ]
  },
  {
   "cell_type": "code",
   "execution_count": 43,
   "metadata": {},
   "outputs": [],
   "source": [
    "normal_sold = {}\n",
    "for itemid in sales_sum['skutertiaryid'].unique():\n",
    "    normal_sold[itemid] = sales_sum[sales_sum['skutertiaryid'] == itemid]['salerevenuerub'].median()"
   ]
  },
  {
   "cell_type": "code",
   "execution_count": 5,
   "metadata": {},
   "outputs": [],
   "source": [
    "from sklearn.linear_model import LinearRegression\n",
    "from sklearn.model_selection import train_test_split\n",
    "from sklearn.preprocessing import LabelEncoder"
   ]
  },
  {
   "cell_type": "code",
   "execution_count": 6,
   "metadata": {},
   "outputs": [],
   "source": [
    "lenc = LabelEncoder()\n",
    "\n",
    "y = list(promo_sum['chaindiscountvalue'])\n",
    "X = list(zip(promo_sum['start_week'], promo_sum['revenue'], lenc.fit_transform(promo_sum['skutertiaryid'])))\n",
    "X_train, X_test, y_train, y_test = train_test_split(X, y, test_size=0.10)\n",
    "\n"
   ]
  },
  {
   "cell_type": "code",
   "execution_count": 7,
   "metadata": {},
   "outputs": [
    {
     "output_type": "execute_result",
     "data": {
      "text/plain": [
       "-0.29950372194382635"
      ]
     },
     "metadata": {},
     "execution_count": 7
    }
   ],
   "source": [
    "reg = LinearRegression()\n",
    "reg.fit(X_train, y_train)\n",
    "reg.score(X_test, y_test)"
   ]
  },
  {
   "cell_type": "code",
   "execution_count": 8,
   "metadata": {},
   "outputs": [
    {
     "output_type": "execute_result",
     "data": {
      "text/plain": [
       "array([0.21123319])"
      ]
     },
     "metadata": {},
     "execution_count": 8
    }
   ],
   "source": [
    "one = promo_sum.iloc[0]\n",
    "x_one =[one['start_week'], one['revenue'], lenc.transform([one['skutertiaryid']])[0]]\n",
    "\n",
    "reg.predict([x_one])"
   ]
  },
  {
   "cell_type": "code",
   "execution_count": 9,
   "metadata": {},
   "outputs": [
    {
     "output_type": "execute_result",
     "data": {
      "text/plain": [
       "0.20600703018761"
      ]
     },
     "metadata": {},
     "execution_count": 9
    }
   ],
   "source": [
    "promo_sum.iloc[0]['chaindiscountvalue']"
   ]
  },
  {
   "cell_type": "code",
   "execution_count": 12,
   "metadata": {},
   "outputs": [
    {
     "output_type": "execute_result",
     "data": {
      "text/plain": [
       "    skutertiaryid  chaindiscountvalue  start_year  start_week       revenue  \\\n",
       "52           7182            0.206007        2019          46  6.976407e+07   \n",
       "43           7182            0.206215        2019          42  7.852176e+07   \n",
       "39           7182            0.205024        2019          38  6.393776e+07   \n",
       "27           7182            0.146242        2019          26  3.846121e+07   \n",
       "14           7182            0.198616        2019          17  1.681596e+08   \n",
       "..            ...                 ...         ...         ...           ...   \n",
       "4            7205            0.221040        2019           8  5.452037e+06   \n",
       "11           7205            0.154356        2019          16  7.018317e+06   \n",
       "5            7234            0.216858        2019           8  2.599516e+07   \n",
       "1            7234            0.239229        2019           4  3.136620e+07   \n",
       "13           7234            0.142418        2019          16  3.291463e+07   \n",
       "\n",
       "    soldpieces  sold_added  \n",
       "52     2301296    0.600504  \n",
       "43     2587576    0.675206  \n",
       "39     2119216    0.552991  \n",
       "27     1787199    0.466354  \n",
       "14     5753487    1.501324  \n",
       "..         ...         ...  \n",
       "4      3142354    1.187179  \n",
       "11     4684197    1.769686  \n",
       "5      3142354    0.235008  \n",
       "1      2543043    0.190187  \n",
       "13     4684197    0.350318  \n",
       "\n",
       "[64 rows x 7 columns]"
      ],
      "text/html": "<div>\n<style scoped>\n    .dataframe tbody tr th:only-of-type {\n        vertical-align: middle;\n    }\n\n    .dataframe tbody tr th {\n        vertical-align: top;\n    }\n\n    .dataframe thead th {\n        text-align: right;\n    }\n</style>\n<table border=\"1\" class=\"dataframe\">\n  <thead>\n    <tr style=\"text-align: right;\">\n      <th></th>\n      <th>skutertiaryid</th>\n      <th>chaindiscountvalue</th>\n      <th>start_year</th>\n      <th>start_week</th>\n      <th>revenue</th>\n      <th>soldpieces</th>\n      <th>sold_added</th>\n    </tr>\n  </thead>\n  <tbody>\n    <tr>\n      <th>52</th>\n      <td>7182</td>\n      <td>0.206007</td>\n      <td>2019</td>\n      <td>46</td>\n      <td>6.976407e+07</td>\n      <td>2301296</td>\n      <td>0.600504</td>\n    </tr>\n    <tr>\n      <th>43</th>\n      <td>7182</td>\n      <td>0.206215</td>\n      <td>2019</td>\n      <td>42</td>\n      <td>7.852176e+07</td>\n      <td>2587576</td>\n      <td>0.675206</td>\n    </tr>\n    <tr>\n      <th>39</th>\n      <td>7182</td>\n      <td>0.205024</td>\n      <td>2019</td>\n      <td>38</td>\n      <td>6.393776e+07</td>\n      <td>2119216</td>\n      <td>0.552991</td>\n    </tr>\n    <tr>\n      <th>27</th>\n      <td>7182</td>\n      <td>0.146242</td>\n      <td>2019</td>\n      <td>26</td>\n      <td>3.846121e+07</td>\n      <td>1787199</td>\n      <td>0.466354</td>\n    </tr>\n    <tr>\n      <th>14</th>\n      <td>7182</td>\n      <td>0.198616</td>\n      <td>2019</td>\n      <td>17</td>\n      <td>1.681596e+08</td>\n      <td>5753487</td>\n      <td>1.501324</td>\n    </tr>\n    <tr>\n      <th>...</th>\n      <td>...</td>\n      <td>...</td>\n      <td>...</td>\n      <td>...</td>\n      <td>...</td>\n      <td>...</td>\n      <td>...</td>\n    </tr>\n    <tr>\n      <th>4</th>\n      <td>7205</td>\n      <td>0.221040</td>\n      <td>2019</td>\n      <td>8</td>\n      <td>5.452037e+06</td>\n      <td>3142354</td>\n      <td>1.187179</td>\n    </tr>\n    <tr>\n      <th>11</th>\n      <td>7205</td>\n      <td>0.154356</td>\n      <td>2019</td>\n      <td>16</td>\n      <td>7.018317e+06</td>\n      <td>4684197</td>\n      <td>1.769686</td>\n    </tr>\n    <tr>\n      <th>5</th>\n      <td>7234</td>\n      <td>0.216858</td>\n      <td>2019</td>\n      <td>8</td>\n      <td>2.599516e+07</td>\n      <td>3142354</td>\n      <td>0.235008</td>\n    </tr>\n    <tr>\n      <th>1</th>\n      <td>7234</td>\n      <td>0.239229</td>\n      <td>2019</td>\n      <td>4</td>\n      <td>3.136620e+07</td>\n      <td>2543043</td>\n      <td>0.190187</td>\n    </tr>\n    <tr>\n      <th>13</th>\n      <td>7234</td>\n      <td>0.142418</td>\n      <td>2019</td>\n      <td>16</td>\n      <td>3.291463e+07</td>\n      <td>4684197</td>\n      <td>0.350318</td>\n    </tr>\n  </tbody>\n</table>\n<p>64 rows × 7 columns</p>\n</div>"
     },
     "metadata": {},
     "execution_count": 12
    }
   ],
   "source": [
    "promo_sum"
   ]
  },
  {
   "cell_type": "code",
   "execution_count": 15,
   "metadata": {},
   "outputs": [
    {
     "output_type": "execute_result",
     "data": {
      "text/plain": [
       "    skutertiaryid  chaindiscountvalue  start_year  start_week       revenue  \\\n",
       "1            7234            0.239229        2019           3  7.209066e+07   \n",
       "0            7205            0.228495        2019           3  2.789668e+07   \n",
       "1            7234            0.239229        2019           4  3.136620e+07   \n",
       "0            7205            0.228495        2019           4  5.949511e+06   \n",
       "4            7205            0.221040        2019           7  3.334620e+07   \n",
       "..            ...                 ...         ...         ...           ...   \n",
       "52           7182            0.206007        2019          46  6.976407e+07   \n",
       "58           7234            0.171371        2019          49  4.536458e+07   \n",
       "55           7205            0.158584        2019          49  1.700776e+07   \n",
       "60           7194            0.307070        2019          50  1.465767e+08   \n",
       "59           7189            0.312877        2019          50  3.083378e+07   \n",
       "\n",
       "    soldpieces  sold_added  \n",
       "1      2543043    0.190187  \n",
       "0      2543043    0.960759  \n",
       "1      2543043    0.190187  \n",
       "0      2543043    0.960759  \n",
       "4      3142354    1.187179  \n",
       "..         ...         ...  \n",
       "52     2301296    0.600504  \n",
       "58     2233920    0.167069  \n",
       "55     2233920    0.843973  \n",
       "60     2193759    0.268404  \n",
       "59     2193759    2.957324  \n",
       "\n",
       "[64 rows x 7 columns]"
      ],
      "text/html": "<div>\n<style scoped>\n    .dataframe tbody tr th:only-of-type {\n        vertical-align: middle;\n    }\n\n    .dataframe tbody tr th {\n        vertical-align: top;\n    }\n\n    .dataframe thead th {\n        text-align: right;\n    }\n</style>\n<table border=\"1\" class=\"dataframe\">\n  <thead>\n    <tr style=\"text-align: right;\">\n      <th></th>\n      <th>skutertiaryid</th>\n      <th>chaindiscountvalue</th>\n      <th>start_year</th>\n      <th>start_week</th>\n      <th>revenue</th>\n      <th>soldpieces</th>\n      <th>sold_added</th>\n    </tr>\n  </thead>\n  <tbody>\n    <tr>\n      <th>1</th>\n      <td>7234</td>\n      <td>0.239229</td>\n      <td>2019</td>\n      <td>3</td>\n      <td>7.209066e+07</td>\n      <td>2543043</td>\n      <td>0.190187</td>\n    </tr>\n    <tr>\n      <th>0</th>\n      <td>7205</td>\n      <td>0.228495</td>\n      <td>2019</td>\n      <td>3</td>\n      <td>2.789668e+07</td>\n      <td>2543043</td>\n      <td>0.960759</td>\n    </tr>\n    <tr>\n      <th>1</th>\n      <td>7234</td>\n      <td>0.239229</td>\n      <td>2019</td>\n      <td>4</td>\n      <td>3.136620e+07</td>\n      <td>2543043</td>\n      <td>0.190187</td>\n    </tr>\n    <tr>\n      <th>0</th>\n      <td>7205</td>\n      <td>0.228495</td>\n      <td>2019</td>\n      <td>4</td>\n      <td>5.949511e+06</td>\n      <td>2543043</td>\n      <td>0.960759</td>\n    </tr>\n    <tr>\n      <th>4</th>\n      <td>7205</td>\n      <td>0.221040</td>\n      <td>2019</td>\n      <td>7</td>\n      <td>3.334620e+07</td>\n      <td>3142354</td>\n      <td>1.187179</td>\n    </tr>\n    <tr>\n      <th>...</th>\n      <td>...</td>\n      <td>...</td>\n      <td>...</td>\n      <td>...</td>\n      <td>...</td>\n      <td>...</td>\n      <td>...</td>\n    </tr>\n    <tr>\n      <th>52</th>\n      <td>7182</td>\n      <td>0.206007</td>\n      <td>2019</td>\n      <td>46</td>\n      <td>6.976407e+07</td>\n      <td>2301296</td>\n      <td>0.600504</td>\n    </tr>\n    <tr>\n      <th>58</th>\n      <td>7234</td>\n      <td>0.171371</td>\n      <td>2019</td>\n      <td>49</td>\n      <td>4.536458e+07</td>\n      <td>2233920</td>\n      <td>0.167069</td>\n    </tr>\n    <tr>\n      <th>55</th>\n      <td>7205</td>\n      <td>0.158584</td>\n      <td>2019</td>\n      <td>49</td>\n      <td>1.700776e+07</td>\n      <td>2233920</td>\n      <td>0.843973</td>\n    </tr>\n    <tr>\n      <th>60</th>\n      <td>7194</td>\n      <td>0.307070</td>\n      <td>2019</td>\n      <td>50</td>\n      <td>1.465767e+08</td>\n      <td>2193759</td>\n      <td>0.268404</td>\n    </tr>\n    <tr>\n      <th>59</th>\n      <td>7189</td>\n      <td>0.312877</td>\n      <td>2019</td>\n      <td>50</td>\n      <td>3.083378e+07</td>\n      <td>2193759</td>\n      <td>2.957324</td>\n    </tr>\n  </tbody>\n</table>\n<p>64 rows × 7 columns</p>\n</div>"
     },
     "metadata": {},
     "execution_count": 15
    }
   ],
   "source": [
    "promo_sum.sort_values('start_week')"
   ]
  },
  {
   "cell_type": "code",
   "execution_count": 42,
   "metadata": {},
   "outputs": [
    {
     "output_type": "execute_result",
     "data": {
      "text/plain": [
       "      skutertiaryid  salerevenuerub  soldpieces  week  year\n",
       "0              7182    4.067299e+06       48862    17  2018\n",
       "1              7182    7.811600e+05        9381    18  2018\n",
       "2              7182    3.837060e+06       46044    18  2018\n",
       "3              7182    4.894995e+06       63986    19  2018\n",
       "4              7182    4.523049e+06       57705    20  2018\n",
       "...             ...             ...         ...   ...   ...\n",
       "1621           7247    3.568052e+05       55526    49  2020\n",
       "1622           7247    3.178194e+05       44413    50  2020\n",
       "1623           7247    2.838037e+05       36979    51  2020\n",
       "1624           7247    2.768375e+05       36098    52  2020\n",
       "1625           7247    2.190033e+05       28544    53  2020\n",
       "\n",
       "[1626 rows x 5 columns]"
      ],
      "text/html": "<div>\n<style scoped>\n    .dataframe tbody tr th:only-of-type {\n        vertical-align: middle;\n    }\n\n    .dataframe tbody tr th {\n        vertical-align: top;\n    }\n\n    .dataframe thead th {\n        text-align: right;\n    }\n</style>\n<table border=\"1\" class=\"dataframe\">\n  <thead>\n    <tr style=\"text-align: right;\">\n      <th></th>\n      <th>skutertiaryid</th>\n      <th>salerevenuerub</th>\n      <th>soldpieces</th>\n      <th>week</th>\n      <th>year</th>\n    </tr>\n  </thead>\n  <tbody>\n    <tr>\n      <th>0</th>\n      <td>7182</td>\n      <td>4.067299e+06</td>\n      <td>48862</td>\n      <td>17</td>\n      <td>2018</td>\n    </tr>\n    <tr>\n      <th>1</th>\n      <td>7182</td>\n      <td>7.811600e+05</td>\n      <td>9381</td>\n      <td>18</td>\n      <td>2018</td>\n    </tr>\n    <tr>\n      <th>2</th>\n      <td>7182</td>\n      <td>3.837060e+06</td>\n      <td>46044</td>\n      <td>18</td>\n      <td>2018</td>\n    </tr>\n    <tr>\n      <th>3</th>\n      <td>7182</td>\n      <td>4.894995e+06</td>\n      <td>63986</td>\n      <td>19</td>\n      <td>2018</td>\n    </tr>\n    <tr>\n      <th>4</th>\n      <td>7182</td>\n      <td>4.523049e+06</td>\n      <td>57705</td>\n      <td>20</td>\n      <td>2018</td>\n    </tr>\n    <tr>\n      <th>...</th>\n      <td>...</td>\n      <td>...</td>\n      <td>...</td>\n      <td>...</td>\n      <td>...</td>\n    </tr>\n    <tr>\n      <th>1621</th>\n      <td>7247</td>\n      <td>3.568052e+05</td>\n      <td>55526</td>\n      <td>49</td>\n      <td>2020</td>\n    </tr>\n    <tr>\n      <th>1622</th>\n      <td>7247</td>\n      <td>3.178194e+05</td>\n      <td>44413</td>\n      <td>50</td>\n      <td>2020</td>\n    </tr>\n    <tr>\n      <th>1623</th>\n      <td>7247</td>\n      <td>2.838037e+05</td>\n      <td>36979</td>\n      <td>51</td>\n      <td>2020</td>\n    </tr>\n    <tr>\n      <th>1624</th>\n      <td>7247</td>\n      <td>2.768375e+05</td>\n      <td>36098</td>\n      <td>52</td>\n      <td>2020</td>\n    </tr>\n    <tr>\n      <th>1625</th>\n      <td>7247</td>\n      <td>2.190033e+05</td>\n      <td>28544</td>\n      <td>53</td>\n      <td>2020</td>\n    </tr>\n  </tbody>\n</table>\n<p>1626 rows × 5 columns</p>\n</div>"
     },
     "metadata": {},
     "execution_count": 42
    }
   ],
   "source": [
    "sales_sum"
   ]
  },
  {
   "cell_type": "code",
   "execution_count": 82,
   "metadata": {
    "tags": []
   },
   "outputs": [],
   "source": [
    "train_data = []\n",
    "for itemid in promo_sum['skutertiaryid'].unique():\n",
    "    promo_item = promo_sum[promo_sum['skutertiaryid'] == itemid].sort_values('start_week')\n",
    "    last_week: int = 0\n",
    "    for index, row in promo_item.iterrows():\n",
    "        if row['start_week'] - last_week > 1:\n",
    "            for i in range(last_week+1, int(row['start_week'])):\n",
    "                week_sales = sales_sum[(sales_sum['year'] == row['start_year']) & (sales_sum['week'] == i) & (sales_sum['skutertiaryid'] == row['skutertiaryid'])]\n",
    "                if len(week_sales) > 0:\n",
    "                    train_data.append([\n",
    "                                        int(row['skutertiaryid']),\n",
    "                                        0,\n",
    "                                        int(row['start_year']), \n",
    "                                        int(i), \n",
    "                                        0,\n",
    "                                        week_sales.iloc[0]['soldpieces'],\n",
    "                                        week_sales.iloc[0]['soldpieces']/normal_sold[row['skutertiaryid']]\n",
    "                                       ])\n",
    "                    last_week = int(row['start_week'])\n",
    "                else:\n",
    "                    train_data.append([int(row['skutertiaryid']), 0, int(row['start_year']), int(i), 0,\\\n",
    "                                    np.nan,\\\n",
    "                                    np.nan])\n",
    "        train_data.append(row.values)\n",
    "         "
   ]
  },
  {
   "cell_type": "code",
   "execution_count": 83,
   "metadata": {},
   "outputs": [
    {
     "output_type": "execute_result",
     "data": {
      "text/plain": [
       "     skutertiaryid  chaindiscountvalue  start_year  start_week       revenue  \\\n",
       "0           7182.0            0.000000      2019.0         1.0  0.000000e+00   \n",
       "1           7182.0            0.000000      2019.0         2.0  0.000000e+00   \n",
       "2           7182.0            0.000000      2019.0         3.0  0.000000e+00   \n",
       "3           7182.0            0.000000      2019.0         4.0  0.000000e+00   \n",
       "4           7182.0            0.000000      2019.0         5.0  0.000000e+00   \n",
       "..             ...                 ...         ...         ...           ...   \n",
       "410         7238.0            0.000000      2019.0        40.0  0.000000e+00   \n",
       "411         7238.0            0.000000      2019.0        41.0  0.000000e+00   \n",
       "412         7238.0            0.000000      2019.0        42.0  0.000000e+00   \n",
       "413         7238.0            0.000000      2019.0        43.0  0.000000e+00   \n",
       "414         7238.0            0.114543      2019.0        44.0  6.111674e+06   \n",
       "\n",
       "     soldpieces  sold_added  \n",
       "0      195914.0    0.051122  \n",
       "1       83211.0    0.021713  \n",
       "2       40234.0    0.010499  \n",
       "3       36954.0    0.009643  \n",
       "4       20368.0    0.005315  \n",
       "..          ...         ...  \n",
       "410      9375.0    0.007392  \n",
       "411     73635.0    0.058057  \n",
       "412     78578.0    0.061954  \n",
       "413     78239.0    0.061687  \n",
       "414    961545.0    0.758124  \n",
       "\n",
       "[415 rows x 7 columns]"
      ],
      "text/html": "<div>\n<style scoped>\n    .dataframe tbody tr th:only-of-type {\n        vertical-align: middle;\n    }\n\n    .dataframe tbody tr th {\n        vertical-align: top;\n    }\n\n    .dataframe thead th {\n        text-align: right;\n    }\n</style>\n<table border=\"1\" class=\"dataframe\">\n  <thead>\n    <tr style=\"text-align: right;\">\n      <th></th>\n      <th>skutertiaryid</th>\n      <th>chaindiscountvalue</th>\n      <th>start_year</th>\n      <th>start_week</th>\n      <th>revenue</th>\n      <th>soldpieces</th>\n      <th>sold_added</th>\n    </tr>\n  </thead>\n  <tbody>\n    <tr>\n      <th>0</th>\n      <td>7182.0</td>\n      <td>0.000000</td>\n      <td>2019.0</td>\n      <td>1.0</td>\n      <td>0.000000e+00</td>\n      <td>195914.0</td>\n      <td>0.051122</td>\n    </tr>\n    <tr>\n      <th>1</th>\n      <td>7182.0</td>\n      <td>0.000000</td>\n      <td>2019.0</td>\n      <td>2.0</td>\n      <td>0.000000e+00</td>\n      <td>83211.0</td>\n      <td>0.021713</td>\n    </tr>\n    <tr>\n      <th>2</th>\n      <td>7182.0</td>\n      <td>0.000000</td>\n      <td>2019.0</td>\n      <td>3.0</td>\n      <td>0.000000e+00</td>\n      <td>40234.0</td>\n      <td>0.010499</td>\n    </tr>\n    <tr>\n      <th>3</th>\n      <td>7182.0</td>\n      <td>0.000000</td>\n      <td>2019.0</td>\n      <td>4.0</td>\n      <td>0.000000e+00</td>\n      <td>36954.0</td>\n      <td>0.009643</td>\n    </tr>\n    <tr>\n      <th>4</th>\n      <td>7182.0</td>\n      <td>0.000000</td>\n      <td>2019.0</td>\n      <td>5.0</td>\n      <td>0.000000e+00</td>\n      <td>20368.0</td>\n      <td>0.005315</td>\n    </tr>\n    <tr>\n      <th>...</th>\n      <td>...</td>\n      <td>...</td>\n      <td>...</td>\n      <td>...</td>\n      <td>...</td>\n      <td>...</td>\n      <td>...</td>\n    </tr>\n    <tr>\n      <th>410</th>\n      <td>7238.0</td>\n      <td>0.000000</td>\n      <td>2019.0</td>\n      <td>40.0</td>\n      <td>0.000000e+00</td>\n      <td>9375.0</td>\n      <td>0.007392</td>\n    </tr>\n    <tr>\n      <th>411</th>\n      <td>7238.0</td>\n      <td>0.000000</td>\n      <td>2019.0</td>\n      <td>41.0</td>\n      <td>0.000000e+00</td>\n      <td>73635.0</td>\n      <td>0.058057</td>\n    </tr>\n    <tr>\n      <th>412</th>\n      <td>7238.0</td>\n      <td>0.000000</td>\n      <td>2019.0</td>\n      <td>42.0</td>\n      <td>0.000000e+00</td>\n      <td>78578.0</td>\n      <td>0.061954</td>\n    </tr>\n    <tr>\n      <th>413</th>\n      <td>7238.0</td>\n      <td>0.000000</td>\n      <td>2019.0</td>\n      <td>43.0</td>\n      <td>0.000000e+00</td>\n      <td>78239.0</td>\n      <td>0.061687</td>\n    </tr>\n    <tr>\n      <th>414</th>\n      <td>7238.0</td>\n      <td>0.114543</td>\n      <td>2019.0</td>\n      <td>44.0</td>\n      <td>6.111674e+06</td>\n      <td>961545.0</td>\n      <td>0.758124</td>\n    </tr>\n  </tbody>\n</table>\n<p>415 rows × 7 columns</p>\n</div>"
     },
     "metadata": {},
     "execution_count": 83
    }
   ],
   "source": [
    "train_data = pd.DataFrame(train_data, columns=promo_sum.columns)\n",
    "train_data"
   ]
  },
  {
   "cell_type": "code",
   "execution_count": 84,
   "metadata": {},
   "outputs": [],
   "source": [
    "sold_added_med = {}\n",
    "soldpieces_med = {}\n",
    "for itemid in promo_sum['skutertiaryid'].unique():\n",
    "    sold_added_med[itemid] = train_data[train_data['skutertiaryid'] == itemid]['sold_added'].median()\n",
    "    soldpieces_med[itemid] = train_data[train_data['skutertiaryid'] == itemid]['soldpieces'].median()\n",
    "    "
   ]
  },
  {
   "cell_type": "code",
   "execution_count": 85,
   "metadata": {},
   "outputs": [],
   "source": [
    "for i, row in train_data.iterrows():\n",
    "    if np.isnan(row['soldpieces']):\n",
    "        row['soldpieces'] = soldpieces_med[row['skutertiaryid']]\n",
    "    if np.isnan(row['sold_added']):\n",
    "        row['sold_added'] = sold_added_med[row['skutertiaryid']]\n",
    "        \n",
    "        "
   ]
  },
  {
   "cell_type": "code",
   "execution_count": 86,
   "metadata": {},
   "outputs": [
    {
     "output_type": "execute_result",
     "data": {
      "text/plain": [
       "     skutertiaryid  chaindiscountvalue  start_year  start_week       revenue  \\\n",
       "282         7234.0            0.000000      2019.0         1.0  0.000000e+00   \n",
       "283         7234.0            0.000000      2019.0         2.0  0.000000e+00   \n",
       "284         7234.0            0.239229      2019.0         3.0  7.209066e+07   \n",
       "285         7234.0            0.239229      2019.0         4.0  3.136620e+07   \n",
       "286         7234.0            0.000000      2019.0         4.0  0.000000e+00   \n",
       "287         7234.0            0.000000      2019.0         5.0  0.000000e+00   \n",
       "288         7234.0            0.000000      2019.0         6.0  0.000000e+00   \n",
       "289         7234.0            0.216858      2019.0         7.0  8.074984e+07   \n",
       "290         7234.0            0.216858      2019.0         8.0  2.599516e+07   \n",
       "291         7234.0            0.000000      2019.0         8.0  0.000000e+00   \n",
       "292         7234.0            0.000000      2019.0         9.0  0.000000e+00   \n",
       "293         7234.0            0.000000      2019.0        10.0  0.000000e+00   \n",
       "294         7234.0            0.000000      2019.0        11.0  0.000000e+00   \n",
       "295         7234.0            0.000000      2019.0        12.0  0.000000e+00   \n",
       "296         7234.0            0.000000      2019.0        13.0  0.000000e+00   \n",
       "297         7234.0            0.000000      2019.0        14.0  0.000000e+00   \n",
       "298         7234.0            0.142418      2019.0        15.0  7.905198e+07   \n",
       "299         7234.0            0.142418      2019.0        16.0  3.291463e+07   \n",
       "300         7234.0            0.000000      2019.0        16.0  0.000000e+00   \n",
       "301         7234.0            0.000000      2019.0        17.0  0.000000e+00   \n",
       "302         7234.0            0.000000      2019.0        18.0  0.000000e+00   \n",
       "303         7234.0            0.162865      2019.0        19.0  7.768380e+07   \n",
       "304         7234.0            0.000000      2019.0        20.0  0.000000e+00   \n",
       "305         7234.0            0.204431      2019.0        21.0  2.855162e+08   \n",
       "306         7234.0            0.000000      2019.0        22.0  0.000000e+00   \n",
       "307         7234.0            0.000000      2019.0        23.0  0.000000e+00   \n",
       "308         7234.0            0.000000      2019.0        24.0  0.000000e+00   \n",
       "309         7234.0            0.000000      2019.0        25.0  0.000000e+00   \n",
       "310         7234.0            0.000000      2019.0        26.0  0.000000e+00   \n",
       "311         7234.0            0.000000      2019.0        27.0  0.000000e+00   \n",
       "312         7234.0            0.000000      2019.0        28.0  0.000000e+00   \n",
       "313         7234.0            0.180875      2019.0        29.0  7.793473e+07   \n",
       "314         7234.0            0.000000      2019.0        30.0  0.000000e+00   \n",
       "315         7234.0            0.000000      2019.0        31.0  0.000000e+00   \n",
       "316         7234.0            0.223676      2019.0        32.0  8.554278e+07   \n",
       "317         7234.0            0.000000      2019.0        33.0  0.000000e+00   \n",
       "318         7234.0            0.000000      2019.0        34.0  0.000000e+00   \n",
       "319         7234.0            0.000000      2019.0        35.0  0.000000e+00   \n",
       "320         7234.0            0.000000      2019.0        36.0  0.000000e+00   \n",
       "321         7234.0            0.000000      2019.0        37.0  0.000000e+00   \n",
       "322         7234.0            0.000000      2019.0        38.0  0.000000e+00   \n",
       "323         7234.0            0.000000      2019.0        39.0  0.000000e+00   \n",
       "324         7234.0            0.000000      2019.0        40.0  0.000000e+00   \n",
       "325         7234.0            0.000000      2019.0        41.0  0.000000e+00   \n",
       "326         7234.0            0.170127      2019.0        42.0  5.216486e+07   \n",
       "327         7234.0            0.000000      2019.0        43.0  0.000000e+00   \n",
       "328         7234.0            0.000000      2019.0        44.0  0.000000e+00   \n",
       "329         7234.0            0.000000      2019.0        45.0  0.000000e+00   \n",
       "330         7234.0            0.175490      2019.0        46.0  4.785586e+07   \n",
       "331         7234.0            0.000000      2019.0        47.0  0.000000e+00   \n",
       "332         7234.0            0.000000      2019.0        48.0  0.000000e+00   \n",
       "333         7234.0            0.171371      2019.0        49.0  4.536458e+07   \n",
       "\n",
       "     soldpieces  sold_added  \n",
       "282    248424.0    0.018579  \n",
       "283    212346.0    0.015881  \n",
       "284   2543043.0    0.190187  \n",
       "285   2543043.0    0.190187  \n",
       "286    215712.0    0.016132  \n",
       "287     91044.0    0.006809  \n",
       "288    152712.0    0.011421  \n",
       "289   3142354.0    0.235008  \n",
       "290   3142354.0    0.235008  \n",
       "291    217798.0    0.016288  \n",
       "292     93747.0    0.007011  \n",
       "293    156783.0    0.011725  \n",
       "294    176928.0    0.013232  \n",
       "295    181488.0    0.013573  \n",
       "296    186553.0    0.013952  \n",
       "297    188514.0    0.014098  \n",
       "298   4684197.0    0.350318  \n",
       "299   4684197.0    0.350318  \n",
       "300    377180.0    0.028208  \n",
       "301    332544.0    0.024870  \n",
       "302     73645.0    0.005508  \n",
       "303   4025235.0    0.301036  \n",
       "304    363741.0    0.027203  \n",
       "305  11786149.0    0.881453  \n",
       "306    254807.0    0.019056  \n",
       "307    251615.5    0.018818  \n",
       "308    251615.5    0.018818  \n",
       "309    251615.5    0.018818  \n",
       "310    251615.5    0.018818  \n",
       "311    321554.0    0.024048  \n",
       "312    308364.0    0.023062  \n",
       "313   3636140.0    0.271937  \n",
       "314    376943.0    0.028190  \n",
       "315    113938.0    0.008521  \n",
       "316   3227397.0    0.241368  \n",
       "317    335205.0    0.025069  \n",
       "318    284477.0    0.021275  \n",
       "319    219544.0    0.016419  \n",
       "320    310700.0    0.023236  \n",
       "321    277807.0    0.020776  \n",
       "322    204682.0    0.015308  \n",
       "323    189762.0    0.014192  \n",
       "324     28979.0    0.002167  \n",
       "325    213160.0    0.015942  \n",
       "326   2587576.0    0.193517  \n",
       "327    230252.0    0.017220  \n",
       "328     98481.0    0.007365  \n",
       "329    197416.0    0.014764  \n",
       "330   2301296.0    0.172107  \n",
       "331    207974.0    0.015554  \n",
       "332    147698.0    0.011046  \n",
       "333   2233920.0    0.167069  "
      ],
      "text/html": "<div>\n<style scoped>\n    .dataframe tbody tr th:only-of-type {\n        vertical-align: middle;\n    }\n\n    .dataframe tbody tr th {\n        vertical-align: top;\n    }\n\n    .dataframe thead th {\n        text-align: right;\n    }\n</style>\n<table border=\"1\" class=\"dataframe\">\n  <thead>\n    <tr style=\"text-align: right;\">\n      <th></th>\n      <th>skutertiaryid</th>\n      <th>chaindiscountvalue</th>\n      <th>start_year</th>\n      <th>start_week</th>\n      <th>revenue</th>\n      <th>soldpieces</th>\n      <th>sold_added</th>\n    </tr>\n  </thead>\n  <tbody>\n    <tr>\n      <th>282</th>\n      <td>7234.0</td>\n      <td>0.000000</td>\n      <td>2019.0</td>\n      <td>1.0</td>\n      <td>0.000000e+00</td>\n      <td>248424.0</td>\n      <td>0.018579</td>\n    </tr>\n    <tr>\n      <th>283</th>\n      <td>7234.0</td>\n      <td>0.000000</td>\n      <td>2019.0</td>\n      <td>2.0</td>\n      <td>0.000000e+00</td>\n      <td>212346.0</td>\n      <td>0.015881</td>\n    </tr>\n    <tr>\n      <th>284</th>\n      <td>7234.0</td>\n      <td>0.239229</td>\n      <td>2019.0</td>\n      <td>3.0</td>\n      <td>7.209066e+07</td>\n      <td>2543043.0</td>\n      <td>0.190187</td>\n    </tr>\n    <tr>\n      <th>285</th>\n      <td>7234.0</td>\n      <td>0.239229</td>\n      <td>2019.0</td>\n      <td>4.0</td>\n      <td>3.136620e+07</td>\n      <td>2543043.0</td>\n      <td>0.190187</td>\n    </tr>\n    <tr>\n      <th>286</th>\n      <td>7234.0</td>\n      <td>0.000000</td>\n      <td>2019.0</td>\n      <td>4.0</td>\n      <td>0.000000e+00</td>\n      <td>215712.0</td>\n      <td>0.016132</td>\n    </tr>\n    <tr>\n      <th>287</th>\n      <td>7234.0</td>\n      <td>0.000000</td>\n      <td>2019.0</td>\n      <td>5.0</td>\n      <td>0.000000e+00</td>\n      <td>91044.0</td>\n      <td>0.006809</td>\n    </tr>\n    <tr>\n      <th>288</th>\n      <td>7234.0</td>\n      <td>0.000000</td>\n      <td>2019.0</td>\n      <td>6.0</td>\n      <td>0.000000e+00</td>\n      <td>152712.0</td>\n      <td>0.011421</td>\n    </tr>\n    <tr>\n      <th>289</th>\n      <td>7234.0</td>\n      <td>0.216858</td>\n      <td>2019.0</td>\n      <td>7.0</td>\n      <td>8.074984e+07</td>\n      <td>3142354.0</td>\n      <td>0.235008</td>\n    </tr>\n    <tr>\n      <th>290</th>\n      <td>7234.0</td>\n      <td>0.216858</td>\n      <td>2019.0</td>\n      <td>8.0</td>\n      <td>2.599516e+07</td>\n      <td>3142354.0</td>\n      <td>0.235008</td>\n    </tr>\n    <tr>\n      <th>291</th>\n      <td>7234.0</td>\n      <td>0.000000</td>\n      <td>2019.0</td>\n      <td>8.0</td>\n      <td>0.000000e+00</td>\n      <td>217798.0</td>\n      <td>0.016288</td>\n    </tr>\n    <tr>\n      <th>292</th>\n      <td>7234.0</td>\n      <td>0.000000</td>\n      <td>2019.0</td>\n      <td>9.0</td>\n      <td>0.000000e+00</td>\n      <td>93747.0</td>\n      <td>0.007011</td>\n    </tr>\n    <tr>\n      <th>293</th>\n      <td>7234.0</td>\n      <td>0.000000</td>\n      <td>2019.0</td>\n      <td>10.0</td>\n      <td>0.000000e+00</td>\n      <td>156783.0</td>\n      <td>0.011725</td>\n    </tr>\n    <tr>\n      <th>294</th>\n      <td>7234.0</td>\n      <td>0.000000</td>\n      <td>2019.0</td>\n      <td>11.0</td>\n      <td>0.000000e+00</td>\n      <td>176928.0</td>\n      <td>0.013232</td>\n    </tr>\n    <tr>\n      <th>295</th>\n      <td>7234.0</td>\n      <td>0.000000</td>\n      <td>2019.0</td>\n      <td>12.0</td>\n      <td>0.000000e+00</td>\n      <td>181488.0</td>\n      <td>0.013573</td>\n    </tr>\n    <tr>\n      <th>296</th>\n      <td>7234.0</td>\n      <td>0.000000</td>\n      <td>2019.0</td>\n      <td>13.0</td>\n      <td>0.000000e+00</td>\n      <td>186553.0</td>\n      <td>0.013952</td>\n    </tr>\n    <tr>\n      <th>297</th>\n      <td>7234.0</td>\n      <td>0.000000</td>\n      <td>2019.0</td>\n      <td>14.0</td>\n      <td>0.000000e+00</td>\n      <td>188514.0</td>\n      <td>0.014098</td>\n    </tr>\n    <tr>\n      <th>298</th>\n      <td>7234.0</td>\n      <td>0.142418</td>\n      <td>2019.0</td>\n      <td>15.0</td>\n      <td>7.905198e+07</td>\n      <td>4684197.0</td>\n      <td>0.350318</td>\n    </tr>\n    <tr>\n      <th>299</th>\n      <td>7234.0</td>\n      <td>0.142418</td>\n      <td>2019.0</td>\n      <td>16.0</td>\n      <td>3.291463e+07</td>\n      <td>4684197.0</td>\n      <td>0.350318</td>\n    </tr>\n    <tr>\n      <th>300</th>\n      <td>7234.0</td>\n      <td>0.000000</td>\n      <td>2019.0</td>\n      <td>16.0</td>\n      <td>0.000000e+00</td>\n      <td>377180.0</td>\n      <td>0.028208</td>\n    </tr>\n    <tr>\n      <th>301</th>\n      <td>7234.0</td>\n      <td>0.000000</td>\n      <td>2019.0</td>\n      <td>17.0</td>\n      <td>0.000000e+00</td>\n      <td>332544.0</td>\n      <td>0.024870</td>\n    </tr>\n    <tr>\n      <th>302</th>\n      <td>7234.0</td>\n      <td>0.000000</td>\n      <td>2019.0</td>\n      <td>18.0</td>\n      <td>0.000000e+00</td>\n      <td>73645.0</td>\n      <td>0.005508</td>\n    </tr>\n    <tr>\n      <th>303</th>\n      <td>7234.0</td>\n      <td>0.162865</td>\n      <td>2019.0</td>\n      <td>19.0</td>\n      <td>7.768380e+07</td>\n      <td>4025235.0</td>\n      <td>0.301036</td>\n    </tr>\n    <tr>\n      <th>304</th>\n      <td>7234.0</td>\n      <td>0.000000</td>\n      <td>2019.0</td>\n      <td>20.0</td>\n      <td>0.000000e+00</td>\n      <td>363741.0</td>\n      <td>0.027203</td>\n    </tr>\n    <tr>\n      <th>305</th>\n      <td>7234.0</td>\n      <td>0.204431</td>\n      <td>2019.0</td>\n      <td>21.0</td>\n      <td>2.855162e+08</td>\n      <td>11786149.0</td>\n      <td>0.881453</td>\n    </tr>\n    <tr>\n      <th>306</th>\n      <td>7234.0</td>\n      <td>0.000000</td>\n      <td>2019.0</td>\n      <td>22.0</td>\n      <td>0.000000e+00</td>\n      <td>254807.0</td>\n      <td>0.019056</td>\n    </tr>\n    <tr>\n      <th>307</th>\n      <td>7234.0</td>\n      <td>0.000000</td>\n      <td>2019.0</td>\n      <td>23.0</td>\n      <td>0.000000e+00</td>\n      <td>251615.5</td>\n      <td>0.018818</td>\n    </tr>\n    <tr>\n      <th>308</th>\n      <td>7234.0</td>\n      <td>0.000000</td>\n      <td>2019.0</td>\n      <td>24.0</td>\n      <td>0.000000e+00</td>\n      <td>251615.5</td>\n      <td>0.018818</td>\n    </tr>\n    <tr>\n      <th>309</th>\n      <td>7234.0</td>\n      <td>0.000000</td>\n      <td>2019.0</td>\n      <td>25.0</td>\n      <td>0.000000e+00</td>\n      <td>251615.5</td>\n      <td>0.018818</td>\n    </tr>\n    <tr>\n      <th>310</th>\n      <td>7234.0</td>\n      <td>0.000000</td>\n      <td>2019.0</td>\n      <td>26.0</td>\n      <td>0.000000e+00</td>\n      <td>251615.5</td>\n      <td>0.018818</td>\n    </tr>\n    <tr>\n      <th>311</th>\n      <td>7234.0</td>\n      <td>0.000000</td>\n      <td>2019.0</td>\n      <td>27.0</td>\n      <td>0.000000e+00</td>\n      <td>321554.0</td>\n      <td>0.024048</td>\n    </tr>\n    <tr>\n      <th>312</th>\n      <td>7234.0</td>\n      <td>0.000000</td>\n      <td>2019.0</td>\n      <td>28.0</td>\n      <td>0.000000e+00</td>\n      <td>308364.0</td>\n      <td>0.023062</td>\n    </tr>\n    <tr>\n      <th>313</th>\n      <td>7234.0</td>\n      <td>0.180875</td>\n      <td>2019.0</td>\n      <td>29.0</td>\n      <td>7.793473e+07</td>\n      <td>3636140.0</td>\n      <td>0.271937</td>\n    </tr>\n    <tr>\n      <th>314</th>\n      <td>7234.0</td>\n      <td>0.000000</td>\n      <td>2019.0</td>\n      <td>30.0</td>\n      <td>0.000000e+00</td>\n      <td>376943.0</td>\n      <td>0.028190</td>\n    </tr>\n    <tr>\n      <th>315</th>\n      <td>7234.0</td>\n      <td>0.000000</td>\n      <td>2019.0</td>\n      <td>31.0</td>\n      <td>0.000000e+00</td>\n      <td>113938.0</td>\n      <td>0.008521</td>\n    </tr>\n    <tr>\n      <th>316</th>\n      <td>7234.0</td>\n      <td>0.223676</td>\n      <td>2019.0</td>\n      <td>32.0</td>\n      <td>8.554278e+07</td>\n      <td>3227397.0</td>\n      <td>0.241368</td>\n    </tr>\n    <tr>\n      <th>317</th>\n      <td>7234.0</td>\n      <td>0.000000</td>\n      <td>2019.0</td>\n      <td>33.0</td>\n      <td>0.000000e+00</td>\n      <td>335205.0</td>\n      <td>0.025069</td>\n    </tr>\n    <tr>\n      <th>318</th>\n      <td>7234.0</td>\n      <td>0.000000</td>\n      <td>2019.0</td>\n      <td>34.0</td>\n      <td>0.000000e+00</td>\n      <td>284477.0</td>\n      <td>0.021275</td>\n    </tr>\n    <tr>\n      <th>319</th>\n      <td>7234.0</td>\n      <td>0.000000</td>\n      <td>2019.0</td>\n      <td>35.0</td>\n      <td>0.000000e+00</td>\n      <td>219544.0</td>\n      <td>0.016419</td>\n    </tr>\n    <tr>\n      <th>320</th>\n      <td>7234.0</td>\n      <td>0.000000</td>\n      <td>2019.0</td>\n      <td>36.0</td>\n      <td>0.000000e+00</td>\n      <td>310700.0</td>\n      <td>0.023236</td>\n    </tr>\n    <tr>\n      <th>321</th>\n      <td>7234.0</td>\n      <td>0.000000</td>\n      <td>2019.0</td>\n      <td>37.0</td>\n      <td>0.000000e+00</td>\n      <td>277807.0</td>\n      <td>0.020776</td>\n    </tr>\n    <tr>\n      <th>322</th>\n      <td>7234.0</td>\n      <td>0.000000</td>\n      <td>2019.0</td>\n      <td>38.0</td>\n      <td>0.000000e+00</td>\n      <td>204682.0</td>\n      <td>0.015308</td>\n    </tr>\n    <tr>\n      <th>323</th>\n      <td>7234.0</td>\n      <td>0.000000</td>\n      <td>2019.0</td>\n      <td>39.0</td>\n      <td>0.000000e+00</td>\n      <td>189762.0</td>\n      <td>0.014192</td>\n    </tr>\n    <tr>\n      <th>324</th>\n      <td>7234.0</td>\n      <td>0.000000</td>\n      <td>2019.0</td>\n      <td>40.0</td>\n      <td>0.000000e+00</td>\n      <td>28979.0</td>\n      <td>0.002167</td>\n    </tr>\n    <tr>\n      <th>325</th>\n      <td>7234.0</td>\n      <td>0.000000</td>\n      <td>2019.0</td>\n      <td>41.0</td>\n      <td>0.000000e+00</td>\n      <td>213160.0</td>\n      <td>0.015942</td>\n    </tr>\n    <tr>\n      <th>326</th>\n      <td>7234.0</td>\n      <td>0.170127</td>\n      <td>2019.0</td>\n      <td>42.0</td>\n      <td>5.216486e+07</td>\n      <td>2587576.0</td>\n      <td>0.193517</td>\n    </tr>\n    <tr>\n      <th>327</th>\n      <td>7234.0</td>\n      <td>0.000000</td>\n      <td>2019.0</td>\n      <td>43.0</td>\n      <td>0.000000e+00</td>\n      <td>230252.0</td>\n      <td>0.017220</td>\n    </tr>\n    <tr>\n      <th>328</th>\n      <td>7234.0</td>\n      <td>0.000000</td>\n      <td>2019.0</td>\n      <td>44.0</td>\n      <td>0.000000e+00</td>\n      <td>98481.0</td>\n      <td>0.007365</td>\n    </tr>\n    <tr>\n      <th>329</th>\n      <td>7234.0</td>\n      <td>0.000000</td>\n      <td>2019.0</td>\n      <td>45.0</td>\n      <td>0.000000e+00</td>\n      <td>197416.0</td>\n      <td>0.014764</td>\n    </tr>\n    <tr>\n      <th>330</th>\n      <td>7234.0</td>\n      <td>0.175490</td>\n      <td>2019.0</td>\n      <td>46.0</td>\n      <td>4.785586e+07</td>\n      <td>2301296.0</td>\n      <td>0.172107</td>\n    </tr>\n    <tr>\n      <th>331</th>\n      <td>7234.0</td>\n      <td>0.000000</td>\n      <td>2019.0</td>\n      <td>47.0</td>\n      <td>0.000000e+00</td>\n      <td>207974.0</td>\n      <td>0.015554</td>\n    </tr>\n    <tr>\n      <th>332</th>\n      <td>7234.0</td>\n      <td>0.000000</td>\n      <td>2019.0</td>\n      <td>48.0</td>\n      <td>0.000000e+00</td>\n      <td>147698.0</td>\n      <td>0.011046</td>\n    </tr>\n    <tr>\n      <th>333</th>\n      <td>7234.0</td>\n      <td>0.171371</td>\n      <td>2019.0</td>\n      <td>49.0</td>\n      <td>4.536458e+07</td>\n      <td>2233920.0</td>\n      <td>0.167069</td>\n    </tr>\n  </tbody>\n</table>\n</div>"
     },
     "metadata": {},
     "execution_count": 86
    }
   ],
   "source": [
    "train_data[train_data['skutertiaryid'] == 7234].sort_values('start_week')"
   ]
  },
  {
   "cell_type": "code",
   "execution_count": 137,
   "metadata": {},
   "outputs": [],
   "source": [
    "lenc = LabelEncoder()\n",
    "\n",
    "y = list(train_data['sold_added'])\n",
    "X = list(zip(train_data['chaindiscountvalue'], train_data['soldpieces'], train_data['revenue'], train_data['start_week'], lenc.fit_transform(train_data['skutertiaryid'])))\n",
    "X_train, X_test, y_train, y_test = train_test_split(X, y, test_size=0.10)\n"
   ]
  },
  {
   "cell_type": "code",
   "execution_count": 138,
   "metadata": {},
   "outputs": [
    {
     "output_type": "execute_result",
     "data": {
      "text/plain": [
       "0.6240416332413709"
      ]
     },
     "metadata": {},
     "execution_count": 138
    }
   ],
   "source": [
    "\n",
    "reg = LinearRegression()\n",
    "reg.fit(X_train, y_train)\n",
    "reg.score(X_test, y_test)"
   ]
  },
  {
   "cell_type": "code",
   "execution_count": 142,
   "metadata": {},
   "outputs": [
    {
     "output_type": "stream",
     "name": "stdout",
     "text": [
      "0.13924291435922354\n0.02306033481304068\n"
     ]
    }
   ],
   "source": [
    "one = train_data.sample(1).iloc[0]\n",
    "x_one =[one['chaindiscountvalue'], one['soldpieces'], one['revenue'], one['start_week'], lenc.transform([one['skutertiaryid']])[0]]\n",
    "\n",
    "print(reg.predict([x_one])[0])\n",
    "print(one['sold_added'])"
   ]
  },
  {
   "source": [
    "# NEXT"
   ],
   "cell_type": "markdown",
   "metadata": {}
  },
  {
   "cell_type": "code",
   "execution_count": 122,
   "metadata": {},
   "outputs": [],
   "source": [
    "import plotly.express as px"
   ]
  },
  {
   "cell_type": "code",
   "execution_count": 127,
   "metadata": {},
   "outputs": [
    {
     "output_type": "execute_result",
     "data": {
      "text/plain": [
       "     skutertiaryid  salerevenuerub  soldpieces  week  year\n",
       "100           7182    6.915507e+06       92976     1  2020\n",
       "101           7182    6.089150e+06       75077     2  2020\n",
       "102           7182    4.831334e+06       55981     3  2020\n",
       "103           7182    4.763335e+06       56485     4  2020\n",
       "104           7182    3.564996e+06       45487     5  2020\n",
       "..             ...             ...         ...   ...   ...\n",
       "158           7182    3.017431e+06       31272    49  2020\n",
       "159           7182    3.623377e+06       37332    50  2020\n",
       "160           7182    3.921052e+06       40431    51  2020\n",
       "161           7182    6.781731e+06       97103    52  2020\n",
       "162           7182    9.106489e+06      136937    53  2020\n",
       "\n",
       "[63 rows x 5 columns]"
      ],
      "text/html": "<div>\n<style scoped>\n    .dataframe tbody tr th:only-of-type {\n        vertical-align: middle;\n    }\n\n    .dataframe tbody tr th {\n        vertical-align: top;\n    }\n\n    .dataframe thead th {\n        text-align: right;\n    }\n</style>\n<table border=\"1\" class=\"dataframe\">\n  <thead>\n    <tr style=\"text-align: right;\">\n      <th></th>\n      <th>skutertiaryid</th>\n      <th>salerevenuerub</th>\n      <th>soldpieces</th>\n      <th>week</th>\n      <th>year</th>\n    </tr>\n  </thead>\n  <tbody>\n    <tr>\n      <th>100</th>\n      <td>7182</td>\n      <td>6.915507e+06</td>\n      <td>92976</td>\n      <td>1</td>\n      <td>2020</td>\n    </tr>\n    <tr>\n      <th>101</th>\n      <td>7182</td>\n      <td>6.089150e+06</td>\n      <td>75077</td>\n      <td>2</td>\n      <td>2020</td>\n    </tr>\n    <tr>\n      <th>102</th>\n      <td>7182</td>\n      <td>4.831334e+06</td>\n      <td>55981</td>\n      <td>3</td>\n      <td>2020</td>\n    </tr>\n    <tr>\n      <th>103</th>\n      <td>7182</td>\n      <td>4.763335e+06</td>\n      <td>56485</td>\n      <td>4</td>\n      <td>2020</td>\n    </tr>\n    <tr>\n      <th>104</th>\n      <td>7182</td>\n      <td>3.564996e+06</td>\n      <td>45487</td>\n      <td>5</td>\n      <td>2020</td>\n    </tr>\n    <tr>\n      <th>...</th>\n      <td>...</td>\n      <td>...</td>\n      <td>...</td>\n      <td>...</td>\n      <td>...</td>\n    </tr>\n    <tr>\n      <th>158</th>\n      <td>7182</td>\n      <td>3.017431e+06</td>\n      <td>31272</td>\n      <td>49</td>\n      <td>2020</td>\n    </tr>\n    <tr>\n      <th>159</th>\n      <td>7182</td>\n      <td>3.623377e+06</td>\n      <td>37332</td>\n      <td>50</td>\n      <td>2020</td>\n    </tr>\n    <tr>\n      <th>160</th>\n      <td>7182</td>\n      <td>3.921052e+06</td>\n      <td>40431</td>\n      <td>51</td>\n      <td>2020</td>\n    </tr>\n    <tr>\n      <th>161</th>\n      <td>7182</td>\n      <td>6.781731e+06</td>\n      <td>97103</td>\n      <td>52</td>\n      <td>2020</td>\n    </tr>\n    <tr>\n      <th>162</th>\n      <td>7182</td>\n      <td>9.106489e+06</td>\n      <td>136937</td>\n      <td>53</td>\n      <td>2020</td>\n    </tr>\n  </tbody>\n</table>\n<p>63 rows × 5 columns</p>\n</div>"
     },
     "metadata": {},
     "execution_count": 127
    }
   ],
   "source": [
    "sales_20 = sales_sum[(sales_sum['skutertiaryid'] == 7182) & (sales_sum['year'] == 2020)]\n",
    "sales_20"
   ]
  },
  {
   "cell_type": "code",
   "execution_count": 144,
   "metadata": {},
   "outputs": [],
   "source": [
    "weeks = sales_sum.sort_values('week')['week'].unique()\n",
    "items = sales_sum['skutertiaryid'].unique()"
   ]
  },
  {
   "cell_type": "code",
   "execution_count": 145,
   "metadata": {},
   "outputs": [],
   "source": [
    "soldpieces_median = {}\n",
    "for itemid in sales_sum['skutertiaryid'].unique():\n",
    "    sales_item = sales_sum[sales_sum['skutertiaryid'] == itemid]\n",
    "    soldpieces_med[itemid] = {}\n",
    "    for week in weeks:\n",
    "        soldpieces_med[itemid][week] = sales_item[sales_item['week'] == week]['soldpieces'].median()"
   ]
  },
  {
   "source": [
    "[one['chaindiscountvalue'], one['soldpieces'], one['revenue'], one['start_week'], lenc.transform([one['skutertiaryid']])[0]]"
   ],
   "cell_type": "code",
   "metadata": {},
   "execution_count": 146,
   "outputs": [
    {
     "output_type": "execute_result",
     "data": {
      "text/plain": [
       "[0.0, 188480.0, 0.0, 43.0, 3]"
      ]
     },
     "metadata": {},
     "execution_count": 146
    }
   ]
  },
  {
   "cell_type": "code",
   "execution_count": 187,
   "metadata": {},
   "outputs": [],
   "source": [
    "from numpy.random import multinomial\n",
    "import random\n",
    "\n",
    "def get_random_distribution(n, all_sum, s=random.random()):\n",
    "    return np.random.multinomial(all_sum, np.random.dirichlet(np.ones(n)*s))"
   ]
  },
  {
   "cell_type": "code",
   "execution_count": 191,
   "metadata": {},
   "outputs": [
    {
     "output_type": "execute_result",
     "data": {
      "text/plain": [
       "array([1100713182,  143823882,   48007991,       2392,  108494325,\n",
       "          3272319,          5,     311755,   15173264,   22539703,\n",
       "        161463405,    1494064,     489073,  853088319,     281838,\n",
       "         43069462,   31597860,  437450054,      25749,  424504309,\n",
       "             2096,    9695421,   75520996,  778736866,   88697267,\n",
       "               38,     127603,   22885803,  467858424,    4628026,\n",
       "          3449164, 1338240881,         16,       4575,   24770301,\n",
       "          4776642,   21660277,    3372269,  293764729,   83977857,\n",
       "        147160063,  631509876,   25853370,    7576793,   51309487,\n",
       "         28789584,  621322150,    8755069,       6655, 1557213139,\n",
       "        267805998,      49123,   34676491])"
      ]
     },
     "metadata": {},
     "execution_count": 191
    }
   ],
   "source": [
    "get_random_distribution(53, pow(10, 10))"
   ]
  },
  {
   "cell_type": "code",
   "execution_count": 159,
   "metadata": {},
   "outputs": [],
   "source": [
    "test_data = []\n",
    "next_revenue = pow(10,10)\n",
    "for itemid in lenc.classes_:\n",
    "    for week in weeks:\n",
    "        test_data.append([int(itemid), 0.15, soldpieces_med[itemid][week], next_revenue, week])\n",
    "test_data = pd.DataFrame(test_data, columns=['skutertiaryid', 'chaindiscountvalue', 'soldpieces', 'revenue', 'start_week'])"
   ]
  },
  {
   "cell_type": "code",
   "execution_count": 204,
   "metadata": {},
   "outputs": [
    {
     "output_type": "stream",
     "name": "stderr",
     "text": [
      "<ipython-input-204-d01bc3c61c51>:4: UserWarning:\n\nBoolean Series key will be reindexed to match DataFrame index.\n\n"
     ]
    }
   ],
   "source": [
    "test_data = []\n",
    "next_revenue = pow(10,10)\n",
    "itemid = 7182\n",
    "seed = random.random()\n",
    "max_sale = promo_sum[sales_sum['skutertiaryid'] == itemid]['chaindiscountvalue'].max()\n",
    "for week in weeks:\n",
    "    test_data.append([random.uniform(0, max_sale), soldpieces_med[itemid][week], week, itemid])\n",
    "test_data = pd.DataFrame(test_data, columns=['chaindiscountvalue', 'soldpieces', 'start_week', 'skutertiaryid'])\n",
    "test_data['revenue'] = get_random_distribution(len(weeks), next_revenue, seed)"
   ]
  },
  {
   "cell_type": "code",
   "execution_count": 207,
   "metadata": {},
   "outputs": [],
   "source": [
    "X = list(zip(test_data['chaindiscountvalue'], test_data['soldpieces'], test_data['revenue'], test_data['start_week'], lenc.transform(test_data['skutertiaryid'])))\n"
   ]
  },
  {
   "cell_type": "code",
   "execution_count": 210,
   "metadata": {},
   "outputs": [],
   "source": [
    "test_data['sold_added'] = reg.predict(X)\n",
    "    "
   ]
  },
  {
   "cell_type": "code",
   "execution_count": 211,
   "metadata": {},
   "outputs": [
    {
     "output_type": "execute_result",
     "data": {
      "text/plain": [
       "    chaindiscountvalue  soldpieces  start_week  skutertiaryid     revenue  \\\n",
       "0             0.273286    144445.0           1           7182     6481793   \n",
       "1             0.184154     79144.0           2           7182      115390   \n",
       "2             0.144723     48107.5           3           7182      185390   \n",
       "3             0.083354     46719.5           4           7182     6175533   \n",
       "4             0.179132     24101.0           5           7182  1637870313   \n",
       "5             0.347932     61615.0           6           7182    22919131   \n",
       "6             0.390877     80830.0           7           7182   185770079   \n",
       "7             0.036407     64622.0           8           7182    94831908   \n",
       "8             0.329230     21797.5           9           7182   881049764   \n",
       "9             0.037454     89815.5          10           7182     5635622   \n",
       "10            0.285331     86033.0          11           7182   334978210   \n",
       "11            0.158418     62710.0          12           7182    69104638   \n",
       "12            0.328225     49804.5          13           7182   308459643   \n",
       "13            0.344372     37489.0          14           7182     7970036   \n",
       "14            0.326263     47471.5          15           7182   688631262   \n",
       "15            0.166334     43524.5          16           7182     1403272   \n",
       "16            0.195207     48862.0          17           7182   341540886   \n",
       "17            0.117109     25868.5          18           7182   163434681   \n",
       "18            0.005343     63986.0          19           7182    39490603   \n",
       "19            0.053690     51435.0          20           7182       59230   \n",
       "20            0.229237     46626.0          21           7182    17487087   \n",
       "21            0.315044     36292.0          22           7182   300649388   \n",
       "22            0.277350     41326.0          23           7182       39601   \n",
       "23            0.317751     63847.5          24           7182   480786549   \n",
       "24            0.190421     54336.0          25           7182   239968613   \n",
       "25            0.265030     43531.0          26           7182      913353   \n",
       "26            0.185167     40573.0          27           7182    25721235   \n",
       "27            0.007214     51392.0          28           7182   237202827   \n",
       "28            0.135971     48884.0          29           7182    37199552   \n",
       "29            0.316074     68532.0          30           7182     9534529   \n",
       "30            0.226504     25044.5          31           7182         278   \n",
       "31            0.391905     46639.0          32           7182        8493   \n",
       "32            0.204880     51366.0          33           7182     8713675   \n",
       "33            0.237700     54894.0          34           7182       35970   \n",
       "34            0.048646     38373.0          35           7182         344   \n",
       "35            0.173677     36716.0          36           7182   902627572   \n",
       "36            0.167823     43389.0          37           7182   741698551   \n",
       "37            0.316041     40978.0          38           7182    64553781   \n",
       "38            0.094070     37595.0          39           7182     6179730   \n",
       "39            0.141818     34433.0          40           7182           0   \n",
       "40            0.030681     45609.0          41           7182   119539919   \n",
       "41            0.190102     67278.0          42           7182     3497567   \n",
       "42            0.276394     49553.0          43           7182     9606984   \n",
       "43            0.334441     21539.0          44           7182     3222218   \n",
       "44            0.281081     42698.0          45           7182       50956   \n",
       "45            0.164633     41731.0          46           7182           3   \n",
       "46            0.154854     66881.0          47           7182   314889261   \n",
       "47            0.078784     33689.0          48           7182   191962733   \n",
       "48            0.261099     34175.5          49           7182     7253790   \n",
       "49            0.210337     40617.0          50           7182   767129157   \n",
       "50            0.343875     61075.0          51           7182    14027196   \n",
       "51            0.040533     97291.0          52           7182     6453265   \n",
       "52            0.216148    136937.0          53           7182   692938439   \n",
       "\n",
       "    sold_added  \n",
       "0     1.181599  \n",
       "1     0.825114  \n",
       "2     0.618102  \n",
       "3     0.211962  \n",
       "4   -27.743649  \n",
       "5     1.246876  \n",
       "6    -1.365092  \n",
       "7    -1.543999  \n",
       "8   -13.801882  \n",
       "9     0.032830  \n",
       "10   -4.472267  \n",
       "11   -0.477336  \n",
       "12   -3.806304  \n",
       "13    1.506533  \n",
       "14  -10.432904  \n",
       "15    0.746691  \n",
       "16   -5.029548  \n",
       "17   -2.321108  \n",
       "18   -0.696725  \n",
       "19    0.228125  \n",
       "20    0.797210  \n",
       "21   -3.710719  \n",
       "22    1.344506  \n",
       "23   -6.816492  \n",
       "24   -3.254101  \n",
       "25    1.279373  \n",
       "26    0.452941  \n",
       "27   -4.106292  \n",
       "28    0.019261  \n",
       "29    1.407123  \n",
       "30    1.113136  \n",
       "31    1.946795  \n",
       "32    0.872310  \n",
       "33    1.191347  \n",
       "34    0.249816  \n",
       "35  -14.850907  \n",
       "36  -12.070204  \n",
       "37    0.463929  \n",
       "38    0.380999  \n",
       "39    0.727703  \n",
       "40   -1.898073  \n",
       "41    0.927571  \n",
       "42    1.245183  \n",
       "43    1.635773  \n",
       "44    1.438788  \n",
       "45    0.864674  \n",
       "46   -4.654966  \n",
       "47   -2.902141  \n",
       "48    1.224122  \n",
       "49  -12.258866  \n",
       "50    1.535546  \n",
       "51    0.180990  \n",
       "52  -10.885434  "
      ],
      "text/html": "<div>\n<style scoped>\n    .dataframe tbody tr th:only-of-type {\n        vertical-align: middle;\n    }\n\n    .dataframe tbody tr th {\n        vertical-align: top;\n    }\n\n    .dataframe thead th {\n        text-align: right;\n    }\n</style>\n<table border=\"1\" class=\"dataframe\">\n  <thead>\n    <tr style=\"text-align: right;\">\n      <th></th>\n      <th>chaindiscountvalue</th>\n      <th>soldpieces</th>\n      <th>start_week</th>\n      <th>skutertiaryid</th>\n      <th>revenue</th>\n      <th>sold_added</th>\n    </tr>\n  </thead>\n  <tbody>\n    <tr>\n      <th>0</th>\n      <td>0.273286</td>\n      <td>144445.0</td>\n      <td>1</td>\n      <td>7182</td>\n      <td>6481793</td>\n      <td>1.181599</td>\n    </tr>\n    <tr>\n      <th>1</th>\n      <td>0.184154</td>\n      <td>79144.0</td>\n      <td>2</td>\n      <td>7182</td>\n      <td>115390</td>\n      <td>0.825114</td>\n    </tr>\n    <tr>\n      <th>2</th>\n      <td>0.144723</td>\n      <td>48107.5</td>\n      <td>3</td>\n      <td>7182</td>\n      <td>185390</td>\n      <td>0.618102</td>\n    </tr>\n    <tr>\n      <th>3</th>\n      <td>0.083354</td>\n      <td>46719.5</td>\n      <td>4</td>\n      <td>7182</td>\n      <td>6175533</td>\n      <td>0.211962</td>\n    </tr>\n    <tr>\n      <th>4</th>\n      <td>0.179132</td>\n      <td>24101.0</td>\n      <td>5</td>\n      <td>7182</td>\n      <td>1637870313</td>\n      <td>-27.743649</td>\n    </tr>\n    <tr>\n      <th>5</th>\n      <td>0.347932</td>\n      <td>61615.0</td>\n      <td>6</td>\n      <td>7182</td>\n      <td>22919131</td>\n      <td>1.246876</td>\n    </tr>\n    <tr>\n      <th>6</th>\n      <td>0.390877</td>\n      <td>80830.0</td>\n      <td>7</td>\n      <td>7182</td>\n      <td>185770079</td>\n      <td>-1.365092</td>\n    </tr>\n    <tr>\n      <th>7</th>\n      <td>0.036407</td>\n      <td>64622.0</td>\n      <td>8</td>\n      <td>7182</td>\n      <td>94831908</td>\n      <td>-1.543999</td>\n    </tr>\n    <tr>\n      <th>8</th>\n      <td>0.329230</td>\n      <td>21797.5</td>\n      <td>9</td>\n      <td>7182</td>\n      <td>881049764</td>\n      <td>-13.801882</td>\n    </tr>\n    <tr>\n      <th>9</th>\n      <td>0.037454</td>\n      <td>89815.5</td>\n      <td>10</td>\n      <td>7182</td>\n      <td>5635622</td>\n      <td>0.032830</td>\n    </tr>\n    <tr>\n      <th>10</th>\n      <td>0.285331</td>\n      <td>86033.0</td>\n      <td>11</td>\n      <td>7182</td>\n      <td>334978210</td>\n      <td>-4.472267</td>\n    </tr>\n    <tr>\n      <th>11</th>\n      <td>0.158418</td>\n      <td>62710.0</td>\n      <td>12</td>\n      <td>7182</td>\n      <td>69104638</td>\n      <td>-0.477336</td>\n    </tr>\n    <tr>\n      <th>12</th>\n      <td>0.328225</td>\n      <td>49804.5</td>\n      <td>13</td>\n      <td>7182</td>\n      <td>308459643</td>\n      <td>-3.806304</td>\n    </tr>\n    <tr>\n      <th>13</th>\n      <td>0.344372</td>\n      <td>37489.0</td>\n      <td>14</td>\n      <td>7182</td>\n      <td>7970036</td>\n      <td>1.506533</td>\n    </tr>\n    <tr>\n      <th>14</th>\n      <td>0.326263</td>\n      <td>47471.5</td>\n      <td>15</td>\n      <td>7182</td>\n      <td>688631262</td>\n      <td>-10.432904</td>\n    </tr>\n    <tr>\n      <th>15</th>\n      <td>0.166334</td>\n      <td>43524.5</td>\n      <td>16</td>\n      <td>7182</td>\n      <td>1403272</td>\n      <td>0.746691</td>\n    </tr>\n    <tr>\n      <th>16</th>\n      <td>0.195207</td>\n      <td>48862.0</td>\n      <td>17</td>\n      <td>7182</td>\n      <td>341540886</td>\n      <td>-5.029548</td>\n    </tr>\n    <tr>\n      <th>17</th>\n      <td>0.117109</td>\n      <td>25868.5</td>\n      <td>18</td>\n      <td>7182</td>\n      <td>163434681</td>\n      <td>-2.321108</td>\n    </tr>\n    <tr>\n      <th>18</th>\n      <td>0.005343</td>\n      <td>63986.0</td>\n      <td>19</td>\n      <td>7182</td>\n      <td>39490603</td>\n      <td>-0.696725</td>\n    </tr>\n    <tr>\n      <th>19</th>\n      <td>0.053690</td>\n      <td>51435.0</td>\n      <td>20</td>\n      <td>7182</td>\n      <td>59230</td>\n      <td>0.228125</td>\n    </tr>\n    <tr>\n      <th>20</th>\n      <td>0.229237</td>\n      <td>46626.0</td>\n      <td>21</td>\n      <td>7182</td>\n      <td>17487087</td>\n      <td>0.797210</td>\n    </tr>\n    <tr>\n      <th>21</th>\n      <td>0.315044</td>\n      <td>36292.0</td>\n      <td>22</td>\n      <td>7182</td>\n      <td>300649388</td>\n      <td>-3.710719</td>\n    </tr>\n    <tr>\n      <th>22</th>\n      <td>0.277350</td>\n      <td>41326.0</td>\n      <td>23</td>\n      <td>7182</td>\n      <td>39601</td>\n      <td>1.344506</td>\n    </tr>\n    <tr>\n      <th>23</th>\n      <td>0.317751</td>\n      <td>63847.5</td>\n      <td>24</td>\n      <td>7182</td>\n      <td>480786549</td>\n      <td>-6.816492</td>\n    </tr>\n    <tr>\n      <th>24</th>\n      <td>0.190421</td>\n      <td>54336.0</td>\n      <td>25</td>\n      <td>7182</td>\n      <td>239968613</td>\n      <td>-3.254101</td>\n    </tr>\n    <tr>\n      <th>25</th>\n      <td>0.265030</td>\n      <td>43531.0</td>\n      <td>26</td>\n      <td>7182</td>\n      <td>913353</td>\n      <td>1.279373</td>\n    </tr>\n    <tr>\n      <th>26</th>\n      <td>0.185167</td>\n      <td>40573.0</td>\n      <td>27</td>\n      <td>7182</td>\n      <td>25721235</td>\n      <td>0.452941</td>\n    </tr>\n    <tr>\n      <th>27</th>\n      <td>0.007214</td>\n      <td>51392.0</td>\n      <td>28</td>\n      <td>7182</td>\n      <td>237202827</td>\n      <td>-4.106292</td>\n    </tr>\n    <tr>\n      <th>28</th>\n      <td>0.135971</td>\n      <td>48884.0</td>\n      <td>29</td>\n      <td>7182</td>\n      <td>37199552</td>\n      <td>0.019261</td>\n    </tr>\n    <tr>\n      <th>29</th>\n      <td>0.316074</td>\n      <td>68532.0</td>\n      <td>30</td>\n      <td>7182</td>\n      <td>9534529</td>\n      <td>1.407123</td>\n    </tr>\n    <tr>\n      <th>30</th>\n      <td>0.226504</td>\n      <td>25044.5</td>\n      <td>31</td>\n      <td>7182</td>\n      <td>278</td>\n      <td>1.113136</td>\n    </tr>\n    <tr>\n      <th>31</th>\n      <td>0.391905</td>\n      <td>46639.0</td>\n      <td>32</td>\n      <td>7182</td>\n      <td>8493</td>\n      <td>1.946795</td>\n    </tr>\n    <tr>\n      <th>32</th>\n      <td>0.204880</td>\n      <td>51366.0</td>\n      <td>33</td>\n      <td>7182</td>\n      <td>8713675</td>\n      <td>0.872310</td>\n    </tr>\n    <tr>\n      <th>33</th>\n      <td>0.237700</td>\n      <td>54894.0</td>\n      <td>34</td>\n      <td>7182</td>\n      <td>35970</td>\n      <td>1.191347</td>\n    </tr>\n    <tr>\n      <th>34</th>\n      <td>0.048646</td>\n      <td>38373.0</td>\n      <td>35</td>\n      <td>7182</td>\n      <td>344</td>\n      <td>0.249816</td>\n    </tr>\n    <tr>\n      <th>35</th>\n      <td>0.173677</td>\n      <td>36716.0</td>\n      <td>36</td>\n      <td>7182</td>\n      <td>902627572</td>\n      <td>-14.850907</td>\n    </tr>\n    <tr>\n      <th>36</th>\n      <td>0.167823</td>\n      <td>43389.0</td>\n      <td>37</td>\n      <td>7182</td>\n      <td>741698551</td>\n      <td>-12.070204</td>\n    </tr>\n    <tr>\n      <th>37</th>\n      <td>0.316041</td>\n      <td>40978.0</td>\n      <td>38</td>\n      <td>7182</td>\n      <td>64553781</td>\n      <td>0.463929</td>\n    </tr>\n    <tr>\n      <th>38</th>\n      <td>0.094070</td>\n      <td>37595.0</td>\n      <td>39</td>\n      <td>7182</td>\n      <td>6179730</td>\n      <td>0.380999</td>\n    </tr>\n    <tr>\n      <th>39</th>\n      <td>0.141818</td>\n      <td>34433.0</td>\n      <td>40</td>\n      <td>7182</td>\n      <td>0</td>\n      <td>0.727703</td>\n    </tr>\n    <tr>\n      <th>40</th>\n      <td>0.030681</td>\n      <td>45609.0</td>\n      <td>41</td>\n      <td>7182</td>\n      <td>119539919</td>\n      <td>-1.898073</td>\n    </tr>\n    <tr>\n      <th>41</th>\n      <td>0.190102</td>\n      <td>67278.0</td>\n      <td>42</td>\n      <td>7182</td>\n      <td>3497567</td>\n      <td>0.927571</td>\n    </tr>\n    <tr>\n      <th>42</th>\n      <td>0.276394</td>\n      <td>49553.0</td>\n      <td>43</td>\n      <td>7182</td>\n      <td>9606984</td>\n      <td>1.245183</td>\n    </tr>\n    <tr>\n      <th>43</th>\n      <td>0.334441</td>\n      <td>21539.0</td>\n      <td>44</td>\n      <td>7182</td>\n      <td>3222218</td>\n      <td>1.635773</td>\n    </tr>\n    <tr>\n      <th>44</th>\n      <td>0.281081</td>\n      <td>42698.0</td>\n      <td>45</td>\n      <td>7182</td>\n      <td>50956</td>\n      <td>1.438788</td>\n    </tr>\n    <tr>\n      <th>45</th>\n      <td>0.164633</td>\n      <td>41731.0</td>\n      <td>46</td>\n      <td>7182</td>\n      <td>3</td>\n      <td>0.864674</td>\n    </tr>\n    <tr>\n      <th>46</th>\n      <td>0.154854</td>\n      <td>66881.0</td>\n      <td>47</td>\n      <td>7182</td>\n      <td>314889261</td>\n      <td>-4.654966</td>\n    </tr>\n    <tr>\n      <th>47</th>\n      <td>0.078784</td>\n      <td>33689.0</td>\n      <td>48</td>\n      <td>7182</td>\n      <td>191962733</td>\n      <td>-2.902141</td>\n    </tr>\n    <tr>\n      <th>48</th>\n      <td>0.261099</td>\n      <td>34175.5</td>\n      <td>49</td>\n      <td>7182</td>\n      <td>7253790</td>\n      <td>1.224122</td>\n    </tr>\n    <tr>\n      <th>49</th>\n      <td>0.210337</td>\n      <td>40617.0</td>\n      <td>50</td>\n      <td>7182</td>\n      <td>767129157</td>\n      <td>-12.258866</td>\n    </tr>\n    <tr>\n      <th>50</th>\n      <td>0.343875</td>\n      <td>61075.0</td>\n      <td>51</td>\n      <td>7182</td>\n      <td>14027196</td>\n      <td>1.535546</td>\n    </tr>\n    <tr>\n      <th>51</th>\n      <td>0.040533</td>\n      <td>97291.0</td>\n      <td>52</td>\n      <td>7182</td>\n      <td>6453265</td>\n      <td>0.180990</td>\n    </tr>\n    <tr>\n      <th>52</th>\n      <td>0.216148</td>\n      <td>136937.0</td>\n      <td>53</td>\n      <td>7182</td>\n      <td>692938439</td>\n      <td>-10.885434</td>\n    </tr>\n  </tbody>\n</table>\n</div>"
     },
     "metadata": {},
     "execution_count": 211
    }
   ],
   "source": [
    "test_data"
   ]
  },
  {
   "cell_type": "code",
   "execution_count": null,
   "metadata": {},
   "outputs": [],
   "source": [
    "import pickle"
   ]
  },
  {
   "cell_type": "code",
   "execution_count": 213,
   "metadata": {},
   "outputs": [
    {
     "output_type": "execute_result",
     "data": {
      "text/plain": [
       "array([7182., 7189., 7193., 7194., 7205., 7232., 7234., 7236., 7238.])"
      ]
     },
     "metadata": {},
     "execution_count": 213
    }
   ],
   "source": [
    "lenc.classes_"
   ]
  },
  {
   "cell_type": "code",
   "execution_count": null,
   "metadata": {},
   "outputs": [],
   "source": []
  }
 ]
}