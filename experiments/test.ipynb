{
 "metadata": {
  "language_info": {
   "codemirror_mode": {
    "name": "ipython",
    "version": 3
   },
   "file_extension": ".py",
   "mimetype": "text/x-python",
   "name": "python",
   "nbconvert_exporter": "python",
   "pygments_lexer": "ipython3",
   "version": "3.8.5-final"
  },
  "orig_nbformat": 2,
  "kernelspec": {
   "name": "python385jvsc74a57bd01ef995206f79e18d60cc6ad60dd9c93412cbc01b9c6c4fb6eaea4506cf9f9e1c",
   "display_name": "Python 3.8.5 64-bit ('venv')"
  },
  "metadata": {
   "interpreter": {
    "hash": "1ef995206f79e18d60cc6ad60dd9c93412cbc01b9c6c4fb6eaea4506cf9f9e1c"
   }
  }
 },
 "nbformat": 4,
 "nbformat_minor": 2,
 "cells": [
  {
   "cell_type": "code",
   "execution_count": 84,
   "metadata": {},
   "outputs": [],
   "source": [
    "import pandas as pd\n",
    "import numpy as np\n",
    "from tqdm import tqdm\n",
    "import seaborn as sns\n",
    "import plotly.express as px\n"
   ]
  },
  {
   "cell_type": "code",
   "execution_count": 85,
   "metadata": {},
   "outputs": [
    {
     "output_type": "stream",
     "name": "stderr",
     "text": [
      "/home/royalcat/projects/hacks/accenture-promo-hack/venv/lib/python3.8/site-packages/numpy/lib/arraysetops.py:583: FutureWarning: elementwise comparison failed; returning scalar instead, but in the future will perform elementwise comparison\n  mask |= (ar1 == a)\n"
     ]
    }
   ],
   "source": [
    "promo = pd.read_excel(\"../data/promo_history.xlsx\", index_col=0)\n",
    "sales = pd.read_csv(\"../data/sales_history.csv\", index_col=0)\n",
    "promo = promo.drop(columns=0)\n",
    "sales['sale_dt'] = pd.to_datetime(sales['sale_dt'])\n"
   ]
  },
  {
   "cell_type": "code",
   "execution_count": 86,
   "metadata": {},
   "outputs": [
    {
     "output_type": "execute_result",
     "data": {
      "text/plain": [
       "array([7182, 7189, 7193, 7194, 7205, 7232, 7234, 7236, 7247, 7238])"
      ]
     },
     "metadata": {},
     "execution_count": 86
    }
   ],
   "source": [
    "sales['skutertiaryid'].unique()"
   ]
  },
  {
   "cell_type": "code",
   "execution_count": 87,
   "metadata": {},
   "outputs": [],
   "source": [
    "items = sales['skutertiaryid'].unique()\n",
    "prices = {}\n",
    "for itemid in items:\n",
    "    item_sales = sales[sales['skutertiaryid'] == itemid]\n",
    "    prices[itemid] = (item_sales['salerevenuerub']/item_sales['soldpieces']).replace([np.inf, -np.inf], np.nan).max()"
   ]
  },
  {
   "cell_type": "code",
   "execution_count": 88,
   "metadata": {},
   "outputs": [],
   "source": [
    "sales_sum = sales.drop(['posid'], axis=1).groupby(['skutertiaryid', 'sale_dt']).sum().reset_index()"
   ]
  },
  {
   "cell_type": "code",
   "execution_count": 90,
   "metadata": {},
   "outputs": [],
   "source": [
    "sales_sum['week'] = sales_sum['sale_dt'].dt.isocalendar().week\n",
    "sales_sum['year'] = sales_sum['sale_dt'].dt.isocalendar().year\n",
    "sales_sum = sales_sum.drop('sale_dt', axis=1)"
   ]
  },
  {
   "cell_type": "code",
   "execution_count": 91,
   "metadata": {},
   "outputs": [],
   "source": [
    "sales_sum.to_csv('../data/sales_sum_history.csv')"
   ]
  },
  {
   "cell_type": "code",
   "execution_count": 92,
   "metadata": {},
   "outputs": [],
   "source": [
    "promo_sum = promo.copy(deep=True)\n",
    "promo_sum['start_year'] = promo_sum['start_dttm'].dt.isocalendar().year\n",
    "promo_sum['start_week'] = promo_sum['start_dttm'].dt.isocalendar().week\n",
    "promo_sum['end_year'] = promo_sum['end_dttm'].dt.isocalendar().year\n",
    "promo_sum['end_week'] = promo_sum['end_dttm'].dt.isocalendar().week\n",
    "promo_sum = promo_sum.drop(['start_dttm', 'end_dttm', 'promotypeid'], axis=1).sort_values('skutertiaryid')"
   ]
  },
  {
   "cell_type": "code",
   "execution_count": 94,
   "metadata": {},
   "outputs": [
    {
     "output_type": "stream",
     "name": "stderr",
     "text": [
      "103it [00:00, 566.86it/s]\n"
     ]
    }
   ],
   "source": [
    "promo_revenue = []\n",
    "promo_soldpieces = []\n",
    "\n",
    "for i, row in tqdm(promo_sum.iterrows()):\n",
    "    promo_sales = sales_sum[(sales_sum['week'] >= row['start_week']) & (sales_sum['week'] <= row['end_week']) & \\\n",
    "                            ((sales_sum['year'] == row['start_year']) | (sales_sum['year'] == row['end_year']))]\n",
    "    promo_revenue.append(prices[row['skutertiaryid']]  * row['chaindiscountvalue'] * (promo_sales['soldpieces'].sum()))\n",
    "    promo_soldpieces.append(promo_sales['soldpieces'].sum())\n",
    "\n",
    "promo_sum['revenue'] = promo_revenue\n",
    "promo_sum['soldpieces'] = promo_soldpieces\n"
   ]
  },
  {
   "cell_type": "code",
   "execution_count": 95,
   "metadata": {},
   "outputs": [],
   "source": [
    "promo_sum = promo_sum[promo_sum['soldpieces'] != 0]"
   ]
  },
  {
   "cell_type": "code",
   "execution_count": 96,
   "metadata": {},
   "outputs": [],
   "source": [
    "promo_sum_add = []\n",
    "for i, row in promo_sum.iterrows():\n",
    "    promo_time = row['end_week'] - row['start_week']\n",
    "    if promo_time > 1:\n",
    "        row['revenue'] = sales_sum[(sales_sum['skutertiaryid'] == row['skutertiaryid']) &\\\n",
    "                                   (sales_sum['week'] == row['start_week'])]['salerevenuerub'].sum()\n",
    "        new_row = row.copy(deep=True)\n",
    "        new_row['start_week'] = new_row['start_week'] + 1\n",
    "        new_row['revenue'] = sales_sum[(sales_sum['skutertiaryid'] == new_row['skutertiaryid']) &\\\n",
    "                            (sales_sum['week'] == new_row['start_week'])]['salerevenuerub'].sum()\n",
    "        promo_sum_add.append(new_row)"
   ]
  },
  {
   "cell_type": "code",
   "execution_count": 97,
   "metadata": {},
   "outputs": [],
   "source": [
    "promo_sum = promo_sum.append(promo_sum_add).drop(['end_week', 'end_year'], axis=1)"
   ]
  },
  {
   "cell_type": "code",
   "execution_count": 102,
   "metadata": {},
   "outputs": [],
   "source": [
    "promo_sum.to_csv('../data/promo_sum_history.csv')"
   ]
  },
  {
   "cell_type": "code",
   "execution_count": 112,
   "metadata": {},
   "outputs": [
    {
     "output_type": "execute_result",
     "data": {
      "text/plain": [
       "      skutertiaryid  salerevenuerub  soldpieces  week  year\n",
       "1370           7238    2.331297e+06      105391    28  2019\n",
       "1392           7238    1.866580e+06       64965    46  2019\n",
       "824            7232    5.706374e+06      118321    24  2018"
      ],
      "text/html": "<div>\n<style scoped>\n    .dataframe tbody tr th:only-of-type {\n        vertical-align: middle;\n    }\n\n    .dataframe tbody tr th {\n        vertical-align: top;\n    }\n\n    .dataframe thead th {\n        text-align: right;\n    }\n</style>\n<table border=\"1\" class=\"dataframe\">\n  <thead>\n    <tr style=\"text-align: right;\">\n      <th></th>\n      <th>skutertiaryid</th>\n      <th>salerevenuerub</th>\n      <th>soldpieces</th>\n      <th>week</th>\n      <th>year</th>\n    </tr>\n  </thead>\n  <tbody>\n    <tr>\n      <th>1370</th>\n      <td>7238</td>\n      <td>2.331297e+06</td>\n      <td>105391</td>\n      <td>28</td>\n      <td>2019</td>\n    </tr>\n    <tr>\n      <th>1392</th>\n      <td>7238</td>\n      <td>1.866580e+06</td>\n      <td>64965</td>\n      <td>46</td>\n      <td>2019</td>\n    </tr>\n    <tr>\n      <th>824</th>\n      <td>7232</td>\n      <td>5.706374e+06</td>\n      <td>118321</td>\n      <td>24</td>\n      <td>2018</td>\n    </tr>\n  </tbody>\n</table>\n</div>"
     },
     "metadata": {},
     "execution_count": 112
    }
   ],
   "source": [
    "sales_sum.sample(3)"
   ]
  },
  {
   "cell_type": "code",
   "execution_count": 111,
   "metadata": {},
   "outputs": [
    {
     "output_type": "execute_result",
     "data": {
      "text/plain": [
       "    skutertiaryid  chaindiscountvalue  start_year  start_week       revenue  \\\n",
       "49           7189            0.134429        2019          45  1.446190e+07   \n",
       "16           7205            0.165380        2019          19  3.195915e+07   \n",
       "38           7236            0.186274        2019          37  4.990503e+06   \n",
       "52           7182            0.206007        2019          46  6.976407e+07   \n",
       "21           7193            0.300475        2019          21  2.992706e+08   \n",
       "\n",
       "    soldpieces    sold_added  \n",
       "49     2394781  1.652975e+06  \n",
       "16     4025235  1.378326e+06  \n",
       "38     2679623  2.352737e+06  \n",
       "52     2301296 -1.530981e+06  \n",
       "21    11786149  8.682593e+06  "
      ],
      "text/html": "<div>\n<style scoped>\n    .dataframe tbody tr th:only-of-type {\n        vertical-align: middle;\n    }\n\n    .dataframe tbody tr th {\n        vertical-align: top;\n    }\n\n    .dataframe thead th {\n        text-align: right;\n    }\n</style>\n<table border=\"1\" class=\"dataframe\">\n  <thead>\n    <tr style=\"text-align: right;\">\n      <th></th>\n      <th>skutertiaryid</th>\n      <th>chaindiscountvalue</th>\n      <th>start_year</th>\n      <th>start_week</th>\n      <th>revenue</th>\n      <th>soldpieces</th>\n      <th>sold_added</th>\n    </tr>\n  </thead>\n  <tbody>\n    <tr>\n      <th>49</th>\n      <td>7189</td>\n      <td>0.134429</td>\n      <td>2019</td>\n      <td>45</td>\n      <td>1.446190e+07</td>\n      <td>2394781</td>\n      <td>1.652975e+06</td>\n    </tr>\n    <tr>\n      <th>16</th>\n      <td>7205</td>\n      <td>0.165380</td>\n      <td>2019</td>\n      <td>19</td>\n      <td>3.195915e+07</td>\n      <td>4025235</td>\n      <td>1.378326e+06</td>\n    </tr>\n    <tr>\n      <th>38</th>\n      <td>7236</td>\n      <td>0.186274</td>\n      <td>2019</td>\n      <td>37</td>\n      <td>4.990503e+06</td>\n      <td>2679623</td>\n      <td>2.352737e+06</td>\n    </tr>\n    <tr>\n      <th>52</th>\n      <td>7182</td>\n      <td>0.206007</td>\n      <td>2019</td>\n      <td>46</td>\n      <td>6.976407e+07</td>\n      <td>2301296</td>\n      <td>-1.530981e+06</td>\n    </tr>\n    <tr>\n      <th>21</th>\n      <td>7193</td>\n      <td>0.300475</td>\n      <td>2019</td>\n      <td>21</td>\n      <td>2.992706e+08</td>\n      <td>11786149</td>\n      <td>8.682593e+06</td>\n    </tr>\n  </tbody>\n</table>\n</div>"
     },
     "metadata": {},
     "execution_count": 111
    }
   ],
   "source": [
    "promo_sum.sample(3)"
   ]
  },
  {
   "cell_type": "code",
   "execution_count": 108,
   "metadata": {},
   "outputs": [
    {
     "output_type": "execute_result",
     "data": {
      "text/plain": [
       "    skutertiaryid  chaindiscountvalue  start_year  start_week       revenue  \\\n",
       "52           7182            0.206007        2019          46  6.976407e+07   \n",
       "43           7182            0.206215        2019          42  7.852176e+07   \n",
       "39           7182            0.205024        2019          38  6.393776e+07   \n",
       "27           7182            0.146242        2019          26  3.846121e+07   \n",
       "14           7182            0.198616        2019          17  1.681596e+08   \n",
       "28           7182            0.195177        2019          29  1.044350e+08   \n",
       "3            7182            0.233531        2019           7  1.079884e+08   \n",
       "7            7182            0.230109        2019          11  1.062178e+08   \n",
       "14           7182            0.198616        2019          18  1.431900e+07   \n",
       "3            7182            0.233531        2019           8  1.042321e+07   \n",
       "7            7182            0.230109        2019          12  9.993975e+06   \n",
       "\n",
       "    soldpieces    sold_added  \n",
       "52     2301296 -1.530981e+06  \n",
       "43     2587576 -1.244701e+06  \n",
       "39     2119216 -1.713061e+06  \n",
       "27     1787199 -2.045078e+06  \n",
       "14     5753487  1.921210e+06  \n",
       "28     3636140 -1.961366e+05  \n",
       "3      3142354 -6.899226e+05  \n",
       "7      3136796 -6.954806e+05  \n",
       "14     5753487  1.921210e+06  \n",
       "3      3142354 -6.899226e+05  \n",
       "7      3136796 -6.954806e+05  "
      ],
      "text/html": "<div>\n<style scoped>\n    .dataframe tbody tr th:only-of-type {\n        vertical-align: middle;\n    }\n\n    .dataframe tbody tr th {\n        vertical-align: top;\n    }\n\n    .dataframe thead th {\n        text-align: right;\n    }\n</style>\n<table border=\"1\" class=\"dataframe\">\n  <thead>\n    <tr style=\"text-align: right;\">\n      <th></th>\n      <th>skutertiaryid</th>\n      <th>chaindiscountvalue</th>\n      <th>start_year</th>\n      <th>start_week</th>\n      <th>revenue</th>\n      <th>soldpieces</th>\n      <th>sold_added</th>\n    </tr>\n  </thead>\n  <tbody>\n    <tr>\n      <th>52</th>\n      <td>7182</td>\n      <td>0.206007</td>\n      <td>2019</td>\n      <td>46</td>\n      <td>6.976407e+07</td>\n      <td>2301296</td>\n      <td>-1.530981e+06</td>\n    </tr>\n    <tr>\n      <th>43</th>\n      <td>7182</td>\n      <td>0.206215</td>\n      <td>2019</td>\n      <td>42</td>\n      <td>7.852176e+07</td>\n      <td>2587576</td>\n      <td>-1.244701e+06</td>\n    </tr>\n    <tr>\n      <th>39</th>\n      <td>7182</td>\n      <td>0.205024</td>\n      <td>2019</td>\n      <td>38</td>\n      <td>6.393776e+07</td>\n      <td>2119216</td>\n      <td>-1.713061e+06</td>\n    </tr>\n    <tr>\n      <th>27</th>\n      <td>7182</td>\n      <td>0.146242</td>\n      <td>2019</td>\n      <td>26</td>\n      <td>3.846121e+07</td>\n      <td>1787199</td>\n      <td>-2.045078e+06</td>\n    </tr>\n    <tr>\n      <th>14</th>\n      <td>7182</td>\n      <td>0.198616</td>\n      <td>2019</td>\n      <td>17</td>\n      <td>1.681596e+08</td>\n      <td>5753487</td>\n      <td>1.921210e+06</td>\n    </tr>\n    <tr>\n      <th>28</th>\n      <td>7182</td>\n      <td>0.195177</td>\n      <td>2019</td>\n      <td>29</td>\n      <td>1.044350e+08</td>\n      <td>3636140</td>\n      <td>-1.961366e+05</td>\n    </tr>\n    <tr>\n      <th>3</th>\n      <td>7182</td>\n      <td>0.233531</td>\n      <td>2019</td>\n      <td>7</td>\n      <td>1.079884e+08</td>\n      <td>3142354</td>\n      <td>-6.899226e+05</td>\n    </tr>\n    <tr>\n      <th>7</th>\n      <td>7182</td>\n      <td>0.230109</td>\n      <td>2019</td>\n      <td>11</td>\n      <td>1.062178e+08</td>\n      <td>3136796</td>\n      <td>-6.954806e+05</td>\n    </tr>\n    <tr>\n      <th>14</th>\n      <td>7182</td>\n      <td>0.198616</td>\n      <td>2019</td>\n      <td>18</td>\n      <td>1.431900e+07</td>\n      <td>5753487</td>\n      <td>1.921210e+06</td>\n    </tr>\n    <tr>\n      <th>3</th>\n      <td>7182</td>\n      <td>0.233531</td>\n      <td>2019</td>\n      <td>8</td>\n      <td>1.042321e+07</td>\n      <td>3142354</td>\n      <td>-6.899226e+05</td>\n    </tr>\n    <tr>\n      <th>7</th>\n      <td>7182</td>\n      <td>0.230109</td>\n      <td>2019</td>\n      <td>12</td>\n      <td>9.993975e+06</td>\n      <td>3136796</td>\n      <td>-6.954806e+05</td>\n    </tr>\n  </tbody>\n</table>\n</div>"
     },
     "metadata": {},
     "execution_count": 108
    }
   ],
   "source": [
    "promo_sum[promo_sum['skutertiaryid'] == 7182]"
   ]
  },
  {
   "cell_type": "code",
   "execution_count": 46,
   "metadata": {},
   "outputs": [
    {
     "output_type": "execute_result",
     "data": {
      "text/plain": [
       "    skutertiaryid  chaindiscountvalue  start_year  start_week       revenue  \\\n",
       "52           7182            0.206007        2019          46  6.976407e+07   \n",
       "43           7182            0.206215        2019          42  7.852176e+07   \n",
       "39           7182            0.205024        2019          38  6.393776e+07   \n",
       "27           7182            0.146242        2019          26  3.846121e+07   \n",
       "14           7182            0.198616        2019          17  1.681596e+08   \n",
       "\n",
       "    soldpieces  \n",
       "52     2301296  \n",
       "43     2587576  \n",
       "39     2119216  \n",
       "27     1787199  \n",
       "14     5753487  "
      ],
      "text/html": "<div>\n<style scoped>\n    .dataframe tbody tr th:only-of-type {\n        vertical-align: middle;\n    }\n\n    .dataframe tbody tr th {\n        vertical-align: top;\n    }\n\n    .dataframe thead th {\n        text-align: right;\n    }\n</style>\n<table border=\"1\" class=\"dataframe\">\n  <thead>\n    <tr style=\"text-align: right;\">\n      <th></th>\n      <th>skutertiaryid</th>\n      <th>chaindiscountvalue</th>\n      <th>start_year</th>\n      <th>start_week</th>\n      <th>revenue</th>\n      <th>soldpieces</th>\n    </tr>\n  </thead>\n  <tbody>\n    <tr>\n      <th>52</th>\n      <td>7182</td>\n      <td>0.206007</td>\n      <td>2019</td>\n      <td>46</td>\n      <td>6.976407e+07</td>\n      <td>2301296</td>\n    </tr>\n    <tr>\n      <th>43</th>\n      <td>7182</td>\n      <td>0.206215</td>\n      <td>2019</td>\n      <td>42</td>\n      <td>7.852176e+07</td>\n      <td>2587576</td>\n    </tr>\n    <tr>\n      <th>39</th>\n      <td>7182</td>\n      <td>0.205024</td>\n      <td>2019</td>\n      <td>38</td>\n      <td>6.393776e+07</td>\n      <td>2119216</td>\n    </tr>\n    <tr>\n      <th>27</th>\n      <td>7182</td>\n      <td>0.146242</td>\n      <td>2019</td>\n      <td>26</td>\n      <td>3.846121e+07</td>\n      <td>1787199</td>\n    </tr>\n    <tr>\n      <th>14</th>\n      <td>7182</td>\n      <td>0.198616</td>\n      <td>2019</td>\n      <td>17</td>\n      <td>1.681596e+08</td>\n      <td>5753487</td>\n    </tr>\n  </tbody>\n</table>\n</div>"
     },
     "metadata": {},
     "execution_count": 46
    }
   ],
   "source": [
    "promo_sum.head(5)"
   ]
  },
  {
   "cell_type": "code",
   "execution_count": 56,
   "metadata": {},
   "outputs": [
    {
     "output_type": "execute_result",
     "data": {
      "text/plain": [
       "   skutertiaryid    sale_dt  salerevenuerub  soldpieces  week  year\n",
       "0           7182 2018-04-23    4.067299e+06       48862    17  2018\n",
       "1           7182 2018-04-30    7.811600e+05        9381    18  2018\n",
       "2           7182 2018-05-01    3.837060e+06       46044    18  2018\n",
       "3           7182 2018-05-07    4.894995e+06       63986    19  2018\n",
       "4           7182 2018-05-14    4.523049e+06       57705    20  2018"
      ],
      "text/html": "<div>\n<style scoped>\n    .dataframe tbody tr th:only-of-type {\n        vertical-align: middle;\n    }\n\n    .dataframe tbody tr th {\n        vertical-align: top;\n    }\n\n    .dataframe thead th {\n        text-align: right;\n    }\n</style>\n<table border=\"1\" class=\"dataframe\">\n  <thead>\n    <tr style=\"text-align: right;\">\n      <th></th>\n      <th>skutertiaryid</th>\n      <th>sale_dt</th>\n      <th>salerevenuerub</th>\n      <th>soldpieces</th>\n      <th>week</th>\n      <th>year</th>\n    </tr>\n  </thead>\n  <tbody>\n    <tr>\n      <th>0</th>\n      <td>7182</td>\n      <td>2018-04-23</td>\n      <td>4.067299e+06</td>\n      <td>48862</td>\n      <td>17</td>\n      <td>2018</td>\n    </tr>\n    <tr>\n      <th>1</th>\n      <td>7182</td>\n      <td>2018-04-30</td>\n      <td>7.811600e+05</td>\n      <td>9381</td>\n      <td>18</td>\n      <td>2018</td>\n    </tr>\n    <tr>\n      <th>2</th>\n      <td>7182</td>\n      <td>2018-05-01</td>\n      <td>3.837060e+06</td>\n      <td>46044</td>\n      <td>18</td>\n      <td>2018</td>\n    </tr>\n    <tr>\n      <th>3</th>\n      <td>7182</td>\n      <td>2018-05-07</td>\n      <td>4.894995e+06</td>\n      <td>63986</td>\n      <td>19</td>\n      <td>2018</td>\n    </tr>\n    <tr>\n      <th>4</th>\n      <td>7182</td>\n      <td>2018-05-14</td>\n      <td>4.523049e+06</td>\n      <td>57705</td>\n      <td>20</td>\n      <td>2018</td>\n    </tr>\n  </tbody>\n</table>\n</div>"
     },
     "metadata": {},
     "execution_count": 56
    }
   ],
   "source": [
    "sales_sum.head(5)"
   ]
  },
  {
   "cell_type": "code",
   "execution_count": 123,
   "metadata": {},
   "outputs": [],
   "source": [
    "normal_sold = {}\n",
    "for itemid in sales_sum['skutertiaryid'].unique():\n",
    "    normal_sold[itemid] = sales_sum[sales_sum['skutertiaryid'] == itemid]['salerevenuerub'].median()\n"
   ]
  },
  {
   "cell_type": "code",
   "execution_count": 124,
   "metadata": {},
   "outputs": [
    {
     "output_type": "execute_result",
     "data": {
      "text/plain": [
       "{7182: 3832276.599599929,\n",
       " 7189: 741805.5060000226,\n",
       " 7193: 3103555.506870055,\n",
       " 7194: 8173341.8672401095,\n",
       " 7205: 2646909.171431901,\n",
       " 7232: 5340534.957000011,\n",
       " 7234: 13371277.923671968,\n",
       " 7236: 326886.3552000041,\n",
       " 7238: 1268322.3659998327,\n",
       " 7247: 308337.8753448069}"
      ]
     },
     "metadata": {},
     "execution_count": 124
    }
   ],
   "source": [
    "normal_sold"
   ]
  },
  {
   "cell_type": "code",
   "execution_count": 125,
   "metadata": {},
   "outputs": [],
   "source": [
    "sold_added = []\n",
    "for i, row in promo_sum.iterrows():\n",
    "    sold_added.append((row['soldpieces']/normal_sold[row['skutertiaryid']]))\n",
    "promo_sum['sold_added'] = sold_added"
   ]
  },
  {
   "cell_type": "code",
   "execution_count": 126,
   "metadata": {},
   "outputs": [
    {
     "output_type": "execute_result",
     "data": {
      "text/plain": [
       "    skutertiaryid  chaindiscountvalue  start_year  start_week       revenue  \\\n",
       "58           7234            0.171371        2019          49  4.536458e+07   \n",
       "54           7234            0.175490        2019          46  4.785586e+07   \n",
       "1            7234            0.239229        2019           4  3.136620e+07   \n",
       "1            7234            0.239229        2019           3  7.209066e+07   \n",
       "45           7234            0.170127        2019          42  5.216486e+07   \n",
       "..            ...                 ...         ...         ...           ...   \n",
       "15           7236            0.185099        2019          19  4.239683e+06   \n",
       "18           7189            0.173002        2019          20  3.828410e+06   \n",
       "18           7189            0.173002        2019          19  4.495296e+07   \n",
       "38           7236            0.186274        2019          37  4.990503e+06   \n",
       "31           7236            0.213979        2019          30  6.746447e+06   \n",
       "\n",
       "    soldpieces  sold_added  \n",
       "58     2233920    0.167069  \n",
       "54     2301296    0.172107  \n",
       "1      2543043    0.190187  \n",
       "1      2543043    0.190187  \n",
       "45     2587576    0.193517  \n",
       "..         ...         ...  \n",
       "15     2290926    7.008326  \n",
       "18     5784190    7.797448  \n",
       "18     5784190    7.797448  \n",
       "38     2679623    8.197415  \n",
       "31     3153448    9.646925  \n",
       "\n",
       "[64 rows x 7 columns]"
      ],
      "text/html": "<div>\n<style scoped>\n    .dataframe tbody tr th:only-of-type {\n        vertical-align: middle;\n    }\n\n    .dataframe tbody tr th {\n        vertical-align: top;\n    }\n\n    .dataframe thead th {\n        text-align: right;\n    }\n</style>\n<table border=\"1\" class=\"dataframe\">\n  <thead>\n    <tr style=\"text-align: right;\">\n      <th></th>\n      <th>skutertiaryid</th>\n      <th>chaindiscountvalue</th>\n      <th>start_year</th>\n      <th>start_week</th>\n      <th>revenue</th>\n      <th>soldpieces</th>\n      <th>sold_added</th>\n    </tr>\n  </thead>\n  <tbody>\n    <tr>\n      <th>58</th>\n      <td>7234</td>\n      <td>0.171371</td>\n      <td>2019</td>\n      <td>49</td>\n      <td>4.536458e+07</td>\n      <td>2233920</td>\n      <td>0.167069</td>\n    </tr>\n    <tr>\n      <th>54</th>\n      <td>7234</td>\n      <td>0.175490</td>\n      <td>2019</td>\n      <td>46</td>\n      <td>4.785586e+07</td>\n      <td>2301296</td>\n      <td>0.172107</td>\n    </tr>\n    <tr>\n      <th>1</th>\n      <td>7234</td>\n      <td>0.239229</td>\n      <td>2019</td>\n      <td>4</td>\n      <td>3.136620e+07</td>\n      <td>2543043</td>\n      <td>0.190187</td>\n    </tr>\n    <tr>\n      <th>1</th>\n      <td>7234</td>\n      <td>0.239229</td>\n      <td>2019</td>\n      <td>3</td>\n      <td>7.209066e+07</td>\n      <td>2543043</td>\n      <td>0.190187</td>\n    </tr>\n    <tr>\n      <th>45</th>\n      <td>7234</td>\n      <td>0.170127</td>\n      <td>2019</td>\n      <td>42</td>\n      <td>5.216486e+07</td>\n      <td>2587576</td>\n      <td>0.193517</td>\n    </tr>\n    <tr>\n      <th>...</th>\n      <td>...</td>\n      <td>...</td>\n      <td>...</td>\n      <td>...</td>\n      <td>...</td>\n      <td>...</td>\n      <td>...</td>\n    </tr>\n    <tr>\n      <th>15</th>\n      <td>7236</td>\n      <td>0.185099</td>\n      <td>2019</td>\n      <td>19</td>\n      <td>4.239683e+06</td>\n      <td>2290926</td>\n      <td>7.008326</td>\n    </tr>\n    <tr>\n      <th>18</th>\n      <td>7189</td>\n      <td>0.173002</td>\n      <td>2019</td>\n      <td>20</td>\n      <td>3.828410e+06</td>\n      <td>5784190</td>\n      <td>7.797448</td>\n    </tr>\n    <tr>\n      <th>18</th>\n      <td>7189</td>\n      <td>0.173002</td>\n      <td>2019</td>\n      <td>19</td>\n      <td>4.495296e+07</td>\n      <td>5784190</td>\n      <td>7.797448</td>\n    </tr>\n    <tr>\n      <th>38</th>\n      <td>7236</td>\n      <td>0.186274</td>\n      <td>2019</td>\n      <td>37</td>\n      <td>4.990503e+06</td>\n      <td>2679623</td>\n      <td>8.197415</td>\n    </tr>\n    <tr>\n      <th>31</th>\n      <td>7236</td>\n      <td>0.213979</td>\n      <td>2019</td>\n      <td>30</td>\n      <td>6.746447e+06</td>\n      <td>3153448</td>\n      <td>9.646925</td>\n    </tr>\n  </tbody>\n</table>\n<p>64 rows × 7 columns</p>\n</div>"
     },
     "metadata": {},
     "execution_count": 126
    }
   ],
   "source": [
    "promo_sum.sort_values('sold_added')"
   ]
  },
  {
   "cell_type": "code",
   "execution_count": 127,
   "metadata": {},
   "outputs": [],
   "source": [
    "promo_sum.to_csv('../data/promo_sum_history.csv')"
   ]
  },
  {
   "cell_type": "code",
   "execution_count": null,
   "metadata": {},
   "outputs": [],
   "source": []
  }
 ]
}