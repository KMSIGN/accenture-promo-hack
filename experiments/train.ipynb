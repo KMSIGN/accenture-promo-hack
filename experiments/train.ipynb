{
 "metadata": {
  "language_info": {
   "codemirror_mode": {
    "name": "ipython",
    "version": 3
   },
   "file_extension": ".py",
   "mimetype": "text/x-python",
   "name": "python",
   "nbconvert_exporter": "python",
   "pygments_lexer": "ipython3",
   "version": "3.8.5-final"
  },
  "orig_nbformat": 2,
  "kernelspec": {
   "name": "python385jvsc74a57bd01ef995206f79e18d60cc6ad60dd9c93412cbc01b9c6c4fb6eaea4506cf9f9e1c",
   "display_name": "Python 3.8.5 64-bit ('venv')"
  }
 },
 "nbformat": 4,
 "nbformat_minor": 2,
 "cells": [
  {
   "cell_type": "code",
   "execution_count": 1,
   "metadata": {},
   "outputs": [],
   "source": [
    "import pandas as pd"
   ]
  },
  {
   "cell_type": "code",
   "execution_count": 6,
   "metadata": {},
   "outputs": [],
   "source": [
    "promo_sum = pd.read_csv(\"../data/promo_sum_history.csv\", index_col=0)\n",
    "sales_sum = pd.read_csv(\"../data/sales_sum_history.csv\", index_col=0)"
   ]
  },
  {
   "cell_type": "code",
   "execution_count": 7,
   "metadata": {},
   "outputs": [
    {
     "output_type": "execute_result",
     "data": {
      "text/plain": [
       "    skutertiaryid  chaindiscountvalue  start_year  start_week       revenue  \\\n",
       "52           7182            0.206007        2019          46  6.976407e+07   \n",
       "43           7182            0.206215        2019          42  7.852176e+07   \n",
       "39           7182            0.205024        2019          38  6.393776e+07   \n",
       "27           7182            0.146242        2019          26  3.846121e+07   \n",
       "14           7182            0.198616        2019          17  1.681596e+08   \n",
       "..            ...                 ...         ...         ...           ...   \n",
       "4            7205            0.221040        2019           8  5.452037e+06   \n",
       "11           7205            0.154356        2019          16  7.018317e+06   \n",
       "5            7234            0.216858        2019           8  2.599516e+07   \n",
       "1            7234            0.239229        2019           4  3.136620e+07   \n",
       "13           7234            0.142418        2019          16  3.291463e+07   \n",
       "\n",
       "    soldpieces  sold_added  \n",
       "52     2301296    0.600504  \n",
       "43     2587576    0.675206  \n",
       "39     2119216    0.552991  \n",
       "27     1787199    0.466354  \n",
       "14     5753487    1.501324  \n",
       "..         ...         ...  \n",
       "4      3142354    1.187179  \n",
       "11     4684197    1.769686  \n",
       "5      3142354    0.235008  \n",
       "1      2543043    0.190187  \n",
       "13     4684197    0.350318  \n",
       "\n",
       "[64 rows x 7 columns]"
      ],
      "text/html": "<div>\n<style scoped>\n    .dataframe tbody tr th:only-of-type {\n        vertical-align: middle;\n    }\n\n    .dataframe tbody tr th {\n        vertical-align: top;\n    }\n\n    .dataframe thead th {\n        text-align: right;\n    }\n</style>\n<table border=\"1\" class=\"dataframe\">\n  <thead>\n    <tr style=\"text-align: right;\">\n      <th></th>\n      <th>skutertiaryid</th>\n      <th>chaindiscountvalue</th>\n      <th>start_year</th>\n      <th>start_week</th>\n      <th>revenue</th>\n      <th>soldpieces</th>\n      <th>sold_added</th>\n    </tr>\n  </thead>\n  <tbody>\n    <tr>\n      <th>52</th>\n      <td>7182</td>\n      <td>0.206007</td>\n      <td>2019</td>\n      <td>46</td>\n      <td>6.976407e+07</td>\n      <td>2301296</td>\n      <td>0.600504</td>\n    </tr>\n    <tr>\n      <th>43</th>\n      <td>7182</td>\n      <td>0.206215</td>\n      <td>2019</td>\n      <td>42</td>\n      <td>7.852176e+07</td>\n      <td>2587576</td>\n      <td>0.675206</td>\n    </tr>\n    <tr>\n      <th>39</th>\n      <td>7182</td>\n      <td>0.205024</td>\n      <td>2019</td>\n      <td>38</td>\n      <td>6.393776e+07</td>\n      <td>2119216</td>\n      <td>0.552991</td>\n    </tr>\n    <tr>\n      <th>27</th>\n      <td>7182</td>\n      <td>0.146242</td>\n      <td>2019</td>\n      <td>26</td>\n      <td>3.846121e+07</td>\n      <td>1787199</td>\n      <td>0.466354</td>\n    </tr>\n    <tr>\n      <th>14</th>\n      <td>7182</td>\n      <td>0.198616</td>\n      <td>2019</td>\n      <td>17</td>\n      <td>1.681596e+08</td>\n      <td>5753487</td>\n      <td>1.501324</td>\n    </tr>\n    <tr>\n      <th>...</th>\n      <td>...</td>\n      <td>...</td>\n      <td>...</td>\n      <td>...</td>\n      <td>...</td>\n      <td>...</td>\n      <td>...</td>\n    </tr>\n    <tr>\n      <th>4</th>\n      <td>7205</td>\n      <td>0.221040</td>\n      <td>2019</td>\n      <td>8</td>\n      <td>5.452037e+06</td>\n      <td>3142354</td>\n      <td>1.187179</td>\n    </tr>\n    <tr>\n      <th>11</th>\n      <td>7205</td>\n      <td>0.154356</td>\n      <td>2019</td>\n      <td>16</td>\n      <td>7.018317e+06</td>\n      <td>4684197</td>\n      <td>1.769686</td>\n    </tr>\n    <tr>\n      <th>5</th>\n      <td>7234</td>\n      <td>0.216858</td>\n      <td>2019</td>\n      <td>8</td>\n      <td>2.599516e+07</td>\n      <td>3142354</td>\n      <td>0.235008</td>\n    </tr>\n    <tr>\n      <th>1</th>\n      <td>7234</td>\n      <td>0.239229</td>\n      <td>2019</td>\n      <td>4</td>\n      <td>3.136620e+07</td>\n      <td>2543043</td>\n      <td>0.190187</td>\n    </tr>\n    <tr>\n      <th>13</th>\n      <td>7234</td>\n      <td>0.142418</td>\n      <td>2019</td>\n      <td>16</td>\n      <td>3.291463e+07</td>\n      <td>4684197</td>\n      <td>0.350318</td>\n    </tr>\n  </tbody>\n</table>\n<p>64 rows × 7 columns</p>\n</div>"
     },
     "metadata": {},
     "execution_count": 7
    }
   ],
   "source": [
    "promo_sum"
   ]
  },
  {
   "cell_type": "code",
   "execution_count": 42,
   "metadata": {},
   "outputs": [],
   "source": [
    "from sklearn.linear_model import LinearRegression\n",
    "from sklearn.model_selection import train_test_split\n",
    "from sklearn.preprocessing import LabelEncoder"
   ]
  },
  {
   "cell_type": "code",
   "execution_count": 47,
   "metadata": {},
   "outputs": [],
   "source": [
    "lenc = LabelEncoder()\n",
    "\n",
    "y = list(promo_sum['chaindiscountvalue'])\n",
    "X = list(zip(promo_sum['start_week'], promo_sum['revenue'], lenc.fit_transform(promo_sum['skutertiaryid'])))\n",
    "X_train, X_test, y_train, y_test = train_test_split(X, y, test_size=0.10)\n",
    "\n"
   ]
  },
  {
   "cell_type": "code",
   "execution_count": 61,
   "metadata": {},
   "outputs": [
    {
     "output_type": "execute_result",
     "data": {
      "text/plain": [
       "-0.09429354196408601"
      ]
     },
     "metadata": {},
     "execution_count": 61
    }
   ],
   "source": [
    "reg = LinearRegression()\n",
    "reg.fit(X_train, y_train)\n",
    "reg.score(X_test, y_test)"
   ]
  },
  {
   "cell_type": "code",
   "execution_count": 57,
   "metadata": {},
   "outputs": [
    {
     "output_type": "execute_result",
     "data": {
      "text/plain": [
       "array([0.20989384])"
      ]
     },
     "metadata": {},
     "execution_count": 57
    }
   ],
   "source": [
    "one = promo_sum.iloc[0]\n",
    "x_one =[one['start_week'], one['revenue'], lenc.transform([one['skutertiaryid']])[0]]\n",
    "\n",
    "reg.predict([x_one])"
   ]
  },
  {
   "cell_type": "code",
   "execution_count": 58,
   "metadata": {},
   "outputs": [
    {
     "output_type": "execute_result",
     "data": {
      "text/plain": [
       "0.20600703018761"
      ]
     },
     "metadata": {},
     "execution_count": 58
    }
   ],
   "source": [
    "promo_sum.iloc[0]['chaindiscountvalue']"
   ]
  },
  {
   "cell_type": "code",
   "execution_count": null,
   "metadata": {},
   "outputs": [],
   "source": []
  }
 ]
}