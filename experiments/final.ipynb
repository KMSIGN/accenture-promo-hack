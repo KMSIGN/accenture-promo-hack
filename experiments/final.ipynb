{
 "metadata": {
  "language_info": {
   "codemirror_mode": {
    "name": "ipython",
    "version": 3
   },
   "file_extension": ".py",
   "mimetype": "text/x-python",
   "name": "python",
   "nbconvert_exporter": "python",
   "pygments_lexer": "ipython3",
   "version": "3.8.5-final"
  },
  "orig_nbformat": 2,
  "kernelspec": {
   "name": "python385jvsc74a57bd01ef995206f79e18d60cc6ad60dd9c93412cbc01b9c6c4fb6eaea4506cf9f9e1c",
   "display_name": "Python 3.8.5 64-bit ('venv')"
  }
 },
 "nbformat": 4,
 "nbformat_minor": 2,
 "cells": [
  {
   "cell_type": "code",
   "execution_count": 1,
   "metadata": {},
   "outputs": [],
   "source": [
    "import pandas as pd\n",
    "import numpy as np\n",
    "from joblib import dump, load\n",
    "from sklearn.linear_model import LinearRegression\n",
    "from sklearn.model_selection import train_test_split\n",
    "from sklearn.preprocessing import LabelEncoder\n",
    "from numpy.random import multinomial\n",
    "import random\n",
    "from sklearn.linear_model import Lasso"
   ]
  },
  {
   "cell_type": "code",
   "execution_count": 2,
   "metadata": {},
   "outputs": [
    {
     "output_type": "stream",
     "name": "stderr",
     "text": [
      "/home/royalcat/projects/hacks/accenture-promo-hack/venv/lib/python3.8/site-packages/numpy/lib/arraysetops.py:583: FutureWarning: elementwise comparison failed; returning scalar instead, but in the future will perform elementwise comparison\n  mask |= (ar1 == a)\n"
     ]
    }
   ],
   "source": [
    "sales_path: str = \"../data/sales_history.csv\"\n",
    "promo_path: str = \"../data/promo_history.xlsx\"\n",
    "\n",
    "promo = pd.read_excel(promo_path, index_col=0)\n",
    "sales = pd.read_csv(sales_path, index_col=0)\n",
    "\n",
    "\n",
    "promo = promo.drop(columns=0)\n",
    "sales['sale_dt'] = pd.to_datetime(sales['sale_dt'])"
   ]
  },
  {
   "cell_type": "code",
   "execution_count": 3,
   "metadata": {},
   "outputs": [],
   "source": [
    "#этот код ужасен, если у вас не как минимум 21:9 монитор можете не пытатся его читать\n",
    "#обработка продаж\n",
    "sales_sum = sales.drop(['posid'], axis=1).groupby(['skutertiaryid', 'sale_dt']).sum().reset_index()\n",
    "\n",
    "sales_sum['week'] = sales_sum['sale_dt'].dt.isocalendar().week\n",
    "sales_sum['year'] = sales_sum['sale_dt'].dt.isocalendar().year\n",
    "sales_sum = sales_sum.drop('sale_dt', axis=1)\n"
   ]
  },
  {
   "cell_type": "code",
   "execution_count": 4,
   "metadata": {},
   "outputs": [],
   "source": [
    "#обработка промо\n",
    "promo_sum = promo.copy(deep=True)\n",
    "promo_sum['start_year'] = promo_sum['start_dttm'].dt.isocalendar().year\n",
    "promo_sum['start_week'] = promo_sum['start_dttm'].dt.isocalendar().week\n",
    "promo_sum['end_year'] = promo_sum['end_dttm'].dt.isocalendar().year\n",
    "promo_sum['end_week'] = promo_sum['end_dttm'].dt.isocalendar().week\n",
    "promo_sum = promo_sum.drop(['start_dttm', 'end_dttm', 'promotypeid'], axis=1).sort_values('skutertiaryid')\n",
    "\n",
    "prices = {}\n",
    "for itemid in sales['skutertiaryid'].unique():\n",
    "    item_sales = sales[sales['skutertiaryid'] == itemid]\n",
    "    prices[itemid] = (item_sales['salerevenuerub']/item_sales['soldpieces']).replace([np.inf, -np.inf], np.nan).max()\n",
    "\n",
    "promo_revenue = []\n",
    "promo_soldpieces = []\n",
    "\n",
    "for i, row in promo_sum.iterrows():\n",
    "    promo_sales = sales_sum[(sales_sum['week'] >= row['start_week']) & (sales_sum['week'] <= row['end_week']) & ((sales_sum['year'] == row['start_year']) | (sales_sum['year'] == row['end_year']))]\n",
    "    promo_revenue.append(prices[row['skutertiaryid']]  * row['chaindiscountvalue'] * (promo_sales['soldpieces'].sum()))\n",
    "    promo_soldpieces.append(promo_sales['soldpieces'].sum())\n",
    "\n",
    "promo_sum['revenue'] = promo_revenue\n",
    "promo_sum['soldpieces'] = promo_soldpieces\n",
    "promo_sum = promo_sum[promo_sum['soldpieces'] != 0]"
   ]
  },
  {
   "cell_type": "code",
   "execution_count": 5,
   "metadata": {},
   "outputs": [],
   "source": [
    "normal_sold = {} #нужно в глобал\n",
    "for itemid in sales_sum['skutertiaryid'].unique():\n",
    "    normal_sold[itemid] = sales_sum[sales_sum['skutertiaryid'] == itemid]['salerevenuerub'].median()\n",
    "\n",
    "sold_added = []\n",
    "for i, row in promo_sum.iterrows():\n",
    "    sold_added.append((row['soldpieces']/normal_sold[row['skutertiaryid']]))\n",
    "promo_sum['sold_added'] = sold_added\n",
    "\n",
    "\n",
    "sold_added_med = {} #нужно в глобал\n",
    "soldpieces_med = {} #нужно в глобал\n",
    "for itemid in promo_sum['skutertiaryid'].unique():\n",
    "    sold_added_med[itemid] = promo_sum[promo_sum['skutertiaryid'] == itemid]['sold_added'].median()\n",
    "    soldpieces_med[itemid] = promo_sum[promo_sum['skutertiaryid'] == itemid]['soldpieces'].median()"
   ]
  },
  {
   "cell_type": "code",
   "execution_count": 6,
   "metadata": {},
   "outputs": [],
   "source": [
    "promo_sum = promo_sum.drop(['end_year', 'end_week'], axis=1)"
   ]
  },
  {
   "cell_type": "code",
   "execution_count": 7,
   "metadata": {},
   "outputs": [],
   "source": [
    "train_data = []\n",
    "for itemid in promo_sum['skutertiaryid'].unique():\n",
    "    promo_item = promo_sum[promo_sum['skutertiaryid'] == itemid].sort_values('start_week')\n",
    "    last_week: int = 0\n",
    "    for index, row in promo_item.iterrows():\n",
    "        if row['start_week'] - last_week > 1:\n",
    "            for i in range(last_week+1, int(row['start_week'])):\n",
    "                week_sales = sales_sum[(sales_sum['year'] == row['start_year']) & (sales_sum['week'] == i) & (sales_sum['skutertiaryid'] == row['skutertiaryid'])]\n",
    "                if len(week_sales) > 0:\n",
    "                    train_data.append([\n",
    "                                        int(row['skutertiaryid']),\n",
    "                                        0,\n",
    "                                        int(row['start_year']), \n",
    "                                        int(i), \n",
    "                                        0,\n",
    "                                        week_sales.iloc[0]['soldpieces'],\n",
    "                                        week_sales.iloc[0]['soldpieces']/normal_sold[row['skutertiaryid']]\n",
    "                                       ])\n",
    "                    last_week = int(row['start_week'])\n",
    "                else:\n",
    "                    train_data.append([int(row['skutertiaryid']), 0, int(row['start_year']), int(i), 0,\\\n",
    "                                    np.nan,\\\n",
    "                                    np.nan])\n",
    "        train_data.append(row.values)\n",
    "train_data = pd.DataFrame(train_data, columns=promo_sum.columns)"
   ]
  },
  {
   "cell_type": "code",
   "execution_count": 8,
   "metadata": {},
   "outputs": [],
   "source": [
    "for i, row in train_data.iterrows():\n",
    "    if np.isnan(row['soldpieces']):\n",
    "        row['soldpieces'] = soldpieces_med[row['skutertiaryid']]\n",
    "    if np.isnan(row['sold_added']):\n",
    "        row['sold_added'] = sold_added_med[row['skutertiaryid']]"
   ]
  },
  {
   "cell_type": "code",
   "execution_count": 9,
   "metadata": {},
   "outputs": [],
   "source": [
    "train_data = train_data.dropna()\n",
    "weeks = train_data.sort_values('start_week')['start_week'].unique() #нужно в глобал\n",
    "items = train_data['skutertiaryid'].unique() #нужно в глобал\n"
   ]
  },
  {
   "cell_type": "code",
   "execution_count": 16,
   "metadata": {},
   "outputs": [
    {
     "output_type": "execute_result",
     "data": {
      "text/plain": [
       "Lasso(alpha=0.1, positive=True)"
      ]
     },
     "metadata": {},
     "execution_count": 16
    }
   ],
   "source": [
    "lenc = LabelEncoder() # нужно в глобал\n",
    "\n",
    "y = list(train_data['sold_added'])\n",
    "X = list(zip(train_data['chaindiscountvalue'], train_data['soldpieces'], train_data['revenue'], train_data['start_week'], lenc.fit_transform(train_data['skutertiaryid'])))\n",
    "\n",
    "\n",
    "reg = Lasso(alpha=0.1, positive=True) #нужно в глобал\n",
    "reg.fit(X, y)"
   ]
  },
  {
   "cell_type": "code",
   "execution_count": 17,
   "metadata": {},
   "outputs": [],
   "source": [
    "soldpieces_median = {} #нужно в глобал\n",
    "for itemid in items:\n",
    "    sales_item = sales_sum[sales_sum['skutertiaryid'] == itemid]\n",
    "    soldpieces_med[itemid] = {}\n",
    "    for week in weeks:\n",
    "        soldpieces_med[itemid][week] = sales_item[sales_item['week'] == week]['soldpieces'].median()\n",
    "\n",
    "max_sale = {} # нужно в глобал\n",
    "for itemid in items:\n",
    "    max_sale[itemid] = promo_sum[promo_sum['skutertiaryid'] == itemid]['chaindiscountvalue'].max()"
   ]
  },
  {
   "cell_type": "code",
   "execution_count": 18,
   "metadata": {},
   "outputs": [],
   "source": [
    "def get_random_distribution(n, all_sum, s=random.random()): #нужно в глобал\n",
    "    return np.random.multinomial(all_sum, np.random.dirichlet(np.ones(n)*s))"
   ]
  },
  {
   "cell_type": "code",
   "execution_count": 19,
   "metadata": {},
   "outputs": [],
   "source": [
    "def predict(itemid, next_revenue, seed = random.random(), tries=10):\n",
    "    test_data = []\n",
    "    for week in weeks:\n",
    "        test_data.append([random.uniform(0, max_sale[itemid]), soldpieces_med[itemid][week], week, itemid])\n",
    "    test_data = pd.DataFrame(test_data, \n",
    "                             columns=['chaindiscountvalue', 'soldpieces', 'start_week', 'skutertiaryid'])\n",
    "    \n",
    "    \n",
    "    tries_dict = {}\n",
    "    for i in range(tries):\n",
    "        test_data['revenue'] = get_random_distribution(len(weeks), next_revenue, seed)\n",
    "        X = list(zip(test_data['chaindiscountvalue'], test_data['soldpieces'],\n",
    "                 test_data['revenue'], test_data['start_week'], lenc.transform(test_data['skutertiaryid'])))\n",
    "        predict_result = reg.predict(X)\n",
    "        tries_dict[np.sum(predict_result)] = predict_result\n",
    "    \n",
    "    test_data['sold_added'] = tries_dict[np.max(list(tries_dict.keys()))]\n",
    "    test_data['soldpieces'] = (test_data['soldpieces']  * test_data['sold_added']).astype(int)\n",
    "\n",
    "    return test_data\n",
    "\n",
    "    \n"
   ]
  },
  {
   "cell_type": "code",
   "execution_count": 20,
   "metadata": {},
   "outputs": [
    {
     "output_type": "execute_result",
     "data": {
      "text/plain": [
       "    chaindiscountvalue  soldpieces  start_week  skutertiaryid     revenue  \\\n",
       "0             0.169852       10974           1           7182           0   \n",
       "1             0.114397        4389           2           7182           0   \n",
       "2             0.118051        2243           3           7182           0   \n",
       "3             0.042886        2240           4           7182           0   \n",
       "4             0.166399        1012           5           7182           0   \n",
       "5             0.087623        3488           6           7182           0   \n",
       "6             0.042063        5251           7           7182           0   \n",
       "7             0.011287        3956           8           7182          41   \n",
       "8             0.030916        1054           9           7182           0   \n",
       "9             0.160437        6592          10           7182           0   \n",
       "10            0.151509        6357          11           7182           0   \n",
       "11            0.127762        4246          12           7182           0   \n",
       "12            0.120404        3242          13           7182           0   \n",
       "13            0.107095        2349          14           7182    42379959   \n",
       "14            0.174438        3222          15           7182           0   \n",
       "15            0.065149        2973          16           7182           0   \n",
       "16            0.202929        3514          17           7182           0   \n",
       "17            0.112468        1703          18           7182           0   \n",
       "18            0.137843        5161          19           7182           0   \n",
       "19            0.084167        4020          20           7182           0   \n",
       "20            0.223135        3651          21           7182           0   \n",
       "21            0.221817        2778          22           7182           0   \n",
       "22            0.058787        3309          23           7182        2091   \n",
       "23            0.101625        3752          26           7182           0   \n",
       "24            0.043443        3528          27           7182  7084182457   \n",
       "25            0.006435        4751          28           7182           0   \n",
       "26            0.180085        4564          29           7182           0   \n",
       "27            0.058818        6982          30           7182       23153   \n",
       "28            0.065106        2224          31           7182           0   \n",
       "29            0.128490        4569          32           7182    15205448   \n",
       "30            0.045574        5207          33           7182       25922   \n",
       "31            0.084378        5729          34           7182           0   \n",
       "32            0.156557        3857          35           7182           0   \n",
       "33            0.182834        3735          36           7182           0   \n",
       "34            0.079125        4590          37           7182           0   \n",
       "35            0.070336        4375          38           7182           0   \n",
       "36            0.189333        4037          39           7182           0   \n",
       "37            0.191436        3722          40           7182           0   \n",
       "38            0.076713        5186          41           7182           0   \n",
       "39            0.095799        8268          42           7182  1086737049   \n",
       "40            0.017014        5878          43           7182           0   \n",
       "41            0.036602        2387          44           7182           0   \n",
       "42            0.118233        5118          45           7182           0   \n",
       "43            0.171472        5063          46           7182  1708000205   \n",
       "44            0.045320        8808          47           7182     2316041   \n",
       "45            0.013070        4115          48           7182           0   \n",
       "46            0.037077        4241          49           7182           0   \n",
       "47            0.040413        5202          50           7182    61127634   \n",
       "\n",
       "    sold_added  \n",
       "0     0.075980  \n",
       "1     0.055460  \n",
       "2     0.046645  \n",
       "3     0.047959  \n",
       "4     0.042019  \n",
       "5     0.056622  \n",
       "6     0.064973  \n",
       "7     0.061224  \n",
       "8     0.048382  \n",
       "9     0.073405  \n",
       "10    0.073900  \n",
       "11    0.067720  \n",
       "12    0.065099  \n",
       "13    0.062680  \n",
       "14    0.067877  \n",
       "15    0.068316  \n",
       "16    0.071927  \n",
       "17    0.065860  \n",
       "18    0.080668  \n",
       "19    0.078168  \n",
       "20    0.078313  \n",
       "21    0.076570  \n",
       "22    0.080077  \n",
       "23    0.086193  \n",
       "24    0.086970  \n",
       "25    0.092453  \n",
       "26    0.093384  \n",
       "27    0.101883  \n",
       "28    0.088815  \n",
       "29    0.097979  \n",
       "30    0.101381  \n",
       "31    0.104374  \n",
       "32    0.100518  \n",
       "33    0.101739  \n",
       "34    0.105806  \n",
       "35    0.106770  \n",
       "36    0.107402  \n",
       "37    0.108109  \n",
       "38    0.113714  \n",
       "39    0.122904  \n",
       "40    0.118636  \n",
       "41    0.110854  \n",
       "42    0.119870  \n",
       "43    0.121327  \n",
       "44    0.131706  \n",
       "45    0.122154  \n",
       "46    0.124108  \n",
       "47    0.128096  "
      ],
      "text/html": "<div>\n<style scoped>\n    .dataframe tbody tr th:only-of-type {\n        vertical-align: middle;\n    }\n\n    .dataframe tbody tr th {\n        vertical-align: top;\n    }\n\n    .dataframe thead th {\n        text-align: right;\n    }\n</style>\n<table border=\"1\" class=\"dataframe\">\n  <thead>\n    <tr style=\"text-align: right;\">\n      <th></th>\n      <th>chaindiscountvalue</th>\n      <th>soldpieces</th>\n      <th>start_week</th>\n      <th>skutertiaryid</th>\n      <th>revenue</th>\n      <th>sold_added</th>\n    </tr>\n  </thead>\n  <tbody>\n    <tr>\n      <th>0</th>\n      <td>0.169852</td>\n      <td>10974</td>\n      <td>1</td>\n      <td>7182</td>\n      <td>0</td>\n      <td>0.075980</td>\n    </tr>\n    <tr>\n      <th>1</th>\n      <td>0.114397</td>\n      <td>4389</td>\n      <td>2</td>\n      <td>7182</td>\n      <td>0</td>\n      <td>0.055460</td>\n    </tr>\n    <tr>\n      <th>2</th>\n      <td>0.118051</td>\n      <td>2243</td>\n      <td>3</td>\n      <td>7182</td>\n      <td>0</td>\n      <td>0.046645</td>\n    </tr>\n    <tr>\n      <th>3</th>\n      <td>0.042886</td>\n      <td>2240</td>\n      <td>4</td>\n      <td>7182</td>\n      <td>0</td>\n      <td>0.047959</td>\n    </tr>\n    <tr>\n      <th>4</th>\n      <td>0.166399</td>\n      <td>1012</td>\n      <td>5</td>\n      <td>7182</td>\n      <td>0</td>\n      <td>0.042019</td>\n    </tr>\n    <tr>\n      <th>5</th>\n      <td>0.087623</td>\n      <td>3488</td>\n      <td>6</td>\n      <td>7182</td>\n      <td>0</td>\n      <td>0.056622</td>\n    </tr>\n    <tr>\n      <th>6</th>\n      <td>0.042063</td>\n      <td>5251</td>\n      <td>7</td>\n      <td>7182</td>\n      <td>0</td>\n      <td>0.064973</td>\n    </tr>\n    <tr>\n      <th>7</th>\n      <td>0.011287</td>\n      <td>3956</td>\n      <td>8</td>\n      <td>7182</td>\n      <td>41</td>\n      <td>0.061224</td>\n    </tr>\n    <tr>\n      <th>8</th>\n      <td>0.030916</td>\n      <td>1054</td>\n      <td>9</td>\n      <td>7182</td>\n      <td>0</td>\n      <td>0.048382</td>\n    </tr>\n    <tr>\n      <th>9</th>\n      <td>0.160437</td>\n      <td>6592</td>\n      <td>10</td>\n      <td>7182</td>\n      <td>0</td>\n      <td>0.073405</td>\n    </tr>\n    <tr>\n      <th>10</th>\n      <td>0.151509</td>\n      <td>6357</td>\n      <td>11</td>\n      <td>7182</td>\n      <td>0</td>\n      <td>0.073900</td>\n    </tr>\n    <tr>\n      <th>11</th>\n      <td>0.127762</td>\n      <td>4246</td>\n      <td>12</td>\n      <td>7182</td>\n      <td>0</td>\n      <td>0.067720</td>\n    </tr>\n    <tr>\n      <th>12</th>\n      <td>0.120404</td>\n      <td>3242</td>\n      <td>13</td>\n      <td>7182</td>\n      <td>0</td>\n      <td>0.065099</td>\n    </tr>\n    <tr>\n      <th>13</th>\n      <td>0.107095</td>\n      <td>2349</td>\n      <td>14</td>\n      <td>7182</td>\n      <td>42379959</td>\n      <td>0.062680</td>\n    </tr>\n    <tr>\n      <th>14</th>\n      <td>0.174438</td>\n      <td>3222</td>\n      <td>15</td>\n      <td>7182</td>\n      <td>0</td>\n      <td>0.067877</td>\n    </tr>\n    <tr>\n      <th>15</th>\n      <td>0.065149</td>\n      <td>2973</td>\n      <td>16</td>\n      <td>7182</td>\n      <td>0</td>\n      <td>0.068316</td>\n    </tr>\n    <tr>\n      <th>16</th>\n      <td>0.202929</td>\n      <td>3514</td>\n      <td>17</td>\n      <td>7182</td>\n      <td>0</td>\n      <td>0.071927</td>\n    </tr>\n    <tr>\n      <th>17</th>\n      <td>0.112468</td>\n      <td>1703</td>\n      <td>18</td>\n      <td>7182</td>\n      <td>0</td>\n      <td>0.065860</td>\n    </tr>\n    <tr>\n      <th>18</th>\n      <td>0.137843</td>\n      <td>5161</td>\n      <td>19</td>\n      <td>7182</td>\n      <td>0</td>\n      <td>0.080668</td>\n    </tr>\n    <tr>\n      <th>19</th>\n      <td>0.084167</td>\n      <td>4020</td>\n      <td>20</td>\n      <td>7182</td>\n      <td>0</td>\n      <td>0.078168</td>\n    </tr>\n    <tr>\n      <th>20</th>\n      <td>0.223135</td>\n      <td>3651</td>\n      <td>21</td>\n      <td>7182</td>\n      <td>0</td>\n      <td>0.078313</td>\n    </tr>\n    <tr>\n      <th>21</th>\n      <td>0.221817</td>\n      <td>2778</td>\n      <td>22</td>\n      <td>7182</td>\n      <td>0</td>\n      <td>0.076570</td>\n    </tr>\n    <tr>\n      <th>22</th>\n      <td>0.058787</td>\n      <td>3309</td>\n      <td>23</td>\n      <td>7182</td>\n      <td>2091</td>\n      <td>0.080077</td>\n    </tr>\n    <tr>\n      <th>23</th>\n      <td>0.101625</td>\n      <td>3752</td>\n      <td>26</td>\n      <td>7182</td>\n      <td>0</td>\n      <td>0.086193</td>\n    </tr>\n    <tr>\n      <th>24</th>\n      <td>0.043443</td>\n      <td>3528</td>\n      <td>27</td>\n      <td>7182</td>\n      <td>7084182457</td>\n      <td>0.086970</td>\n    </tr>\n    <tr>\n      <th>25</th>\n      <td>0.006435</td>\n      <td>4751</td>\n      <td>28</td>\n      <td>7182</td>\n      <td>0</td>\n      <td>0.092453</td>\n    </tr>\n    <tr>\n      <th>26</th>\n      <td>0.180085</td>\n      <td>4564</td>\n      <td>29</td>\n      <td>7182</td>\n      <td>0</td>\n      <td>0.093384</td>\n    </tr>\n    <tr>\n      <th>27</th>\n      <td>0.058818</td>\n      <td>6982</td>\n      <td>30</td>\n      <td>7182</td>\n      <td>23153</td>\n      <td>0.101883</td>\n    </tr>\n    <tr>\n      <th>28</th>\n      <td>0.065106</td>\n      <td>2224</td>\n      <td>31</td>\n      <td>7182</td>\n      <td>0</td>\n      <td>0.088815</td>\n    </tr>\n    <tr>\n      <th>29</th>\n      <td>0.128490</td>\n      <td>4569</td>\n      <td>32</td>\n      <td>7182</td>\n      <td>15205448</td>\n      <td>0.097979</td>\n    </tr>\n    <tr>\n      <th>30</th>\n      <td>0.045574</td>\n      <td>5207</td>\n      <td>33</td>\n      <td>7182</td>\n      <td>25922</td>\n      <td>0.101381</td>\n    </tr>\n    <tr>\n      <th>31</th>\n      <td>0.084378</td>\n      <td>5729</td>\n      <td>34</td>\n      <td>7182</td>\n      <td>0</td>\n      <td>0.104374</td>\n    </tr>\n    <tr>\n      <th>32</th>\n      <td>0.156557</td>\n      <td>3857</td>\n      <td>35</td>\n      <td>7182</td>\n      <td>0</td>\n      <td>0.100518</td>\n    </tr>\n    <tr>\n      <th>33</th>\n      <td>0.182834</td>\n      <td>3735</td>\n      <td>36</td>\n      <td>7182</td>\n      <td>0</td>\n      <td>0.101739</td>\n    </tr>\n    <tr>\n      <th>34</th>\n      <td>0.079125</td>\n      <td>4590</td>\n      <td>37</td>\n      <td>7182</td>\n      <td>0</td>\n      <td>0.105806</td>\n    </tr>\n    <tr>\n      <th>35</th>\n      <td>0.070336</td>\n      <td>4375</td>\n      <td>38</td>\n      <td>7182</td>\n      <td>0</td>\n      <td>0.106770</td>\n    </tr>\n    <tr>\n      <th>36</th>\n      <td>0.189333</td>\n      <td>4037</td>\n      <td>39</td>\n      <td>7182</td>\n      <td>0</td>\n      <td>0.107402</td>\n    </tr>\n    <tr>\n      <th>37</th>\n      <td>0.191436</td>\n      <td>3722</td>\n      <td>40</td>\n      <td>7182</td>\n      <td>0</td>\n      <td>0.108109</td>\n    </tr>\n    <tr>\n      <th>38</th>\n      <td>0.076713</td>\n      <td>5186</td>\n      <td>41</td>\n      <td>7182</td>\n      <td>0</td>\n      <td>0.113714</td>\n    </tr>\n    <tr>\n      <th>39</th>\n      <td>0.095799</td>\n      <td>8268</td>\n      <td>42</td>\n      <td>7182</td>\n      <td>1086737049</td>\n      <td>0.122904</td>\n    </tr>\n    <tr>\n      <th>40</th>\n      <td>0.017014</td>\n      <td>5878</td>\n      <td>43</td>\n      <td>7182</td>\n      <td>0</td>\n      <td>0.118636</td>\n    </tr>\n    <tr>\n      <th>41</th>\n      <td>0.036602</td>\n      <td>2387</td>\n      <td>44</td>\n      <td>7182</td>\n      <td>0</td>\n      <td>0.110854</td>\n    </tr>\n    <tr>\n      <th>42</th>\n      <td>0.118233</td>\n      <td>5118</td>\n      <td>45</td>\n      <td>7182</td>\n      <td>0</td>\n      <td>0.119870</td>\n    </tr>\n    <tr>\n      <th>43</th>\n      <td>0.171472</td>\n      <td>5063</td>\n      <td>46</td>\n      <td>7182</td>\n      <td>1708000205</td>\n      <td>0.121327</td>\n    </tr>\n    <tr>\n      <th>44</th>\n      <td>0.045320</td>\n      <td>8808</td>\n      <td>47</td>\n      <td>7182</td>\n      <td>2316041</td>\n      <td>0.131706</td>\n    </tr>\n    <tr>\n      <th>45</th>\n      <td>0.013070</td>\n      <td>4115</td>\n      <td>48</td>\n      <td>7182</td>\n      <td>0</td>\n      <td>0.122154</td>\n    </tr>\n    <tr>\n      <th>46</th>\n      <td>0.037077</td>\n      <td>4241</td>\n      <td>49</td>\n      <td>7182</td>\n      <td>0</td>\n      <td>0.124108</td>\n    </tr>\n    <tr>\n      <th>47</th>\n      <td>0.040413</td>\n      <td>5202</td>\n      <td>50</td>\n      <td>7182</td>\n      <td>61127634</td>\n      <td>0.128096</td>\n    </tr>\n  </tbody>\n</table>\n</div>"
     },
     "metadata": {},
     "execution_count": 20
    }
   ],
   "source": [
    "predict(7182, pow(10,10), seed=0.01, tries=1000)"
   ]
  },
  {
   "cell_type": "code",
   "execution_count": null,
   "metadata": {},
   "outputs": [],
   "source": []
  }
 ]
}